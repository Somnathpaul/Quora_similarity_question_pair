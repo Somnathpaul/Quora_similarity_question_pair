{
  "nbformat": 4,
  "nbformat_minor": 0,
  "metadata": {
    "colab": {
      "name": "Quora(preprocess).ipynb",
      "provenance": []
    },
    "kernelspec": {
      "name": "python3",
      "display_name": "Python 3"
    }
  },
  "cells": [
    {
      "cell_type": "code",
      "metadata": {
        "colab": {
          "base_uri": "https://localhost:8080/"
        },
        "id": "i5HnqaqaNZqo",
        "outputId": "2aaedbc1-a6ad-455a-80e4-1a0730642166"
      },
      "source": [
        "from tqdm import tqdm\n",
        "import re\n",
        "\n",
        "import pandas as pd\n",
        "import numpy as np\n",
        "import string\n",
        "import matplotlib.pyplot as plt\n",
        "import seaborn as sns\n",
        "\n",
        "%matplotlib inline\n",
        "import warnings\n",
        "warnings.filterwarnings(\"ignore\")\n",
        "\n",
        "import nltk\n",
        "from nltk.corpus import stopwords\n",
        "from sklearn.preprocessing import normalize\n",
        "nltk.download('stopwords')\n",
        "from nltk.tokenize import word_tokenize\n",
        "nltk.download('punkt') \n",
        "\n",
        "from bs4 import BeautifulSoup\n",
        "\n",
        "from sklearn.feature_extraction.text import CountVectorizer\n",
        "from sklearn.feature_extraction.text import TfidfVectorizer\n",
        "from sklearn.model_selection import train_test_split"
      ],
      "execution_count": null,
      "outputs": [
        {
          "output_type": "stream",
          "text": [
            "[nltk_data] Downloading package stopwords to /root/nltk_data...\n",
            "[nltk_data]   Package stopwords is already up-to-date!\n",
            "[nltk_data] Downloading package punkt to /root/nltk_data...\n",
            "[nltk_data]   Package punkt is already up-to-date!\n"
          ],
          "name": "stdout"
        }
      ]
    },
    {
      "cell_type": "code",
      "metadata": {
        "colab": {
          "base_uri": "https://localhost:8080/"
        },
        "id": "4n8awx05WhXr",
        "outputId": "d8b67d00-72c8-4854-d579-6c1f88d63b29"
      },
      "source": [
        "# load dataset\n",
        "# collab drive mount\n",
        "from google.colab import drive\n",
        "drive.mount('/content/drive')\n",
        "\n",
        "# loading previos feature extraction dataset\n",
        "data = pd.read_csv(\"/content/drive/MyDrive/collab_data/Quora/advance_feature_extraction_train(2).csv\")"
      ],
      "execution_count": null,
      "outputs": [
        {
          "output_type": "stream",
          "text": [
            "Drive already mounted at /content/drive; to attempt to forcibly remount, call drive.mount(\"/content/drive\", force_remount=True).\n"
          ],
          "name": "stdout"
        }
      ]
    },
    {
      "cell_type": "code",
      "metadata": {
        "colab": {
          "base_uri": "https://localhost:8080/",
          "height": 185
        },
        "id": "bdRlOGuzWur8",
        "outputId": "4d6686d9-810d-4bea-9a5c-25f2cc5cf398"
      },
      "source": [
        "data.head(1)"
      ],
      "execution_count": null,
      "outputs": [
        {
          "output_type": "execute_result",
          "data": {
            "text/html": [
              "<div>\n",
              "<style scoped>\n",
              "    .dataframe tbody tr th:only-of-type {\n",
              "        vertical-align: middle;\n",
              "    }\n",
              "\n",
              "    .dataframe tbody tr th {\n",
              "        vertical-align: top;\n",
              "    }\n",
              "\n",
              "    .dataframe thead th {\n",
              "        text-align: right;\n",
              "    }\n",
              "</style>\n",
              "<table border=\"1\" class=\"dataframe\">\n",
              "  <thead>\n",
              "    <tr style=\"text-align: right;\">\n",
              "      <th></th>\n",
              "      <th>id</th>\n",
              "      <th>qid1</th>\n",
              "      <th>qid2</th>\n",
              "      <th>question1</th>\n",
              "      <th>question2</th>\n",
              "      <th>is_duplicate</th>\n",
              "      <th>freq_qid1</th>\n",
              "      <th>freq_qid2</th>\n",
              "      <th>lenq1</th>\n",
              "      <th>lenq2</th>\n",
              "      <th>q1_n_words</th>\n",
              "      <th>q2_n_words</th>\n",
              "      <th>word_Common</th>\n",
              "      <th>word_Total</th>\n",
              "      <th>word_share</th>\n",
              "      <th>freq_q1+q2</th>\n",
              "      <th>freq_q1-q2</th>\n",
              "      <th>cwc_min</th>\n",
              "      <th>cwc_max</th>\n",
              "      <th>csc_min</th>\n",
              "      <th>csc_max</th>\n",
              "      <th>ctc_min</th>\n",
              "      <th>ctc_max</th>\n",
              "      <th>first_word_eq</th>\n",
              "      <th>last_word_eq</th>\n",
              "      <th>abs_len_diff</th>\n",
              "      <th>mean_len</th>\n",
              "      <th>longest_substr_ratio</th>\n",
              "    </tr>\n",
              "  </thead>\n",
              "  <tbody>\n",
              "    <tr>\n",
              "      <th>0</th>\n",
              "      <td>0</td>\n",
              "      <td>1</td>\n",
              "      <td>2</td>\n",
              "      <td>What is the step by step guide to invest in sh...</td>\n",
              "      <td>What is the step by step guide to invest in sh...</td>\n",
              "      <td>0</td>\n",
              "      <td>1</td>\n",
              "      <td>1</td>\n",
              "      <td>66</td>\n",
              "      <td>57</td>\n",
              "      <td>14</td>\n",
              "      <td>12</td>\n",
              "      <td>12</td>\n",
              "      <td>26</td>\n",
              "      <td>0.461538</td>\n",
              "      <td>2</td>\n",
              "      <td>0</td>\n",
              "      <td>0.99998</td>\n",
              "      <td>0.833319</td>\n",
              "      <td>0.999983</td>\n",
              "      <td>0.999983</td>\n",
              "      <td>0.916659</td>\n",
              "      <td>0.785709</td>\n",
              "      <td>1.0</td>\n",
              "      <td>1.0</td>\n",
              "      <td>2.0</td>\n",
              "      <td>13.0</td>\n",
              "      <td>0.965517</td>\n",
              "    </tr>\n",
              "  </tbody>\n",
              "</table>\n",
              "</div>"
            ],
            "text/plain": [
              "   id  qid1  qid2  ... abs_len_diff mean_len  longest_substr_ratio\n",
              "0   0     1     2  ...          2.0     13.0              0.965517\n",
              "\n",
              "[1 rows x 28 columns]"
            ]
          },
          "metadata": {
            "tags": []
          },
          "execution_count": 52
        }
      ]
    },
    {
      "cell_type": "code",
      "metadata": {
        "id": "o5ec9Li6W4Nw"
      },
      "source": [
        "# pre processdataset (not stemming or lemitization required)\n",
        "\n",
        "STOP_WORDS = stopwords.words(\"english\")\n",
        "\n",
        "# pre process text data \n",
        "def preprocess(sentence):\n",
        "  # lowercase\n",
        "  sentence = str(sentence).lower()\n",
        "  # remove html tags\n",
        "  cleantext = BeautifulSoup(sentence, \"lxml\").text\n",
        "  # remove urls\n",
        "  cleantext = re.sub(r\"http\\S+\", \"\", cleantext)\n",
        "  # remove special characters\n",
        "  cleantext = re.sub(r'[?|.|!|*|@|#|\\|,|)|(|\\|/|′|]', r'', cleantext)\n",
        "  # expanding contractions\n",
        "  cleantext = cleantext.replace(\",000,000\", \"m\").replace(\",000\", \"k\").replace(\"′\", \"'\").replace(\"’\", \"'\")\n",
        "  cleantext = cleantext.replace(\"won't\", \"will not\").replace(\"cannot\", \"can not\").replace(\"can't\", \"can not\")\n",
        "  cleantext = cleantext.replace(\"n't\", \" not\").replace(\"what's\", \"what is\").replace(\"it's\", \"it is\")\n",
        "  cleantext = cleantext.replace(\"'ve\", \" have\").replace(\"i'm\", \"i am\").replace(\"'re\", \" are\")\n",
        "  cleantext = cleantext.replace(\"he's\", \"he is\").replace(\"she's\", \"she is\").replace(\"'s\", \" own\")\n",
        "  cleantext = cleantext.replace(\"%\", \" percent \").replace(\"₹\", \" rupee \").replace(\"$\", \" dollar \")\n",
        "  cleantext = cleantext.replace(\"€\", \" euro \").replace(\"'ll\", \" will\").replace(\"&\", \"and\")\n",
        "  cleantext = re.sub(r\"([0-9]+)000000\", r\"\\1m\", cleantext)\n",
        "  cleantext = re.sub(r\"([0-9]+)000\", r\"\\1k\", cleantext)\n",
        "\n",
        "\n",
        "  # romove stopwords \n",
        "  \n",
        "  words = word_tokenize(cleantext) \n",
        "  sentence_words = [word for word in words if word not in STOP_WORDS]\n",
        "  final_sentence = \" \".join(sentence_words)\n",
        "\n",
        "\n",
        "  # stemming (not required for glove vector)\n",
        "  '''\n",
        "  #porter = PorterStemmer()\n",
        "  words = word_tokenize(cleantext) \n",
        "  word_set = set()\n",
        "  word_list = []\n",
        "  for w in words:\n",
        "    word_set.add(porter.stem(w))\n",
        "  for x in word_set:\n",
        "    word_list.append(x)\n",
        "\n",
        "  str1 = \" \"\n",
        "  final_str = str1.join(word_list)\n",
        "  '''\n",
        "\n",
        "\n",
        "\n",
        "  return cleantext\n"
      ],
      "execution_count": null,
      "outputs": []
    },
    {
      "cell_type": "code",
      "metadata": {
        "colab": {
          "base_uri": "https://localhost:8080/"
        },
        "id": "RMUJVtUjXU3J",
        "outputId": "418afa01-5519-4954-e238-077dbb557950"
      },
      "source": [
        "#################### Preprocess TEST ####################\n",
        "print(preprocess(\"hi <h3> hello world's most precious 1000 island? 23$ \"))"
      ],
      "execution_count": null,
      "outputs": [
        {
          "output_type": "stream",
          "text": [
            "hi  hello world own most precious 1k island 23 dollar  \n"
          ],
          "name": "stdout"
        }
      ]
    },
    {
      "cell_type": "code",
      "metadata": {
        "colab": {
          "base_uri": "https://localhost:8080/"
        },
        "id": "gBI3PgA2YJAL",
        "outputId": "4e91a319-fa59-4199-c2a5-ab9fcc2f8edd"
      },
      "source": [
        "# if any null values are there , fill with blank string\n",
        "nan_rows = data[data.isnull().any(1)]\n",
        "print(nan_rows)\n",
        "data = data.fillna('')\n",
        "nan_rows = data[data.isnull().any(1)]\n",
        "print(nan_rows)"
      ],
      "execution_count": null,
      "outputs": [
        {
          "output_type": "stream",
          "text": [
            "            id    qid1    qid2  ... abs_len_diff mean_len  longest_substr_ratio\n",
            "105780  105780  174363  174364  ...          0.0      0.0              0.965517\n",
            "201841  201841  303951  174364  ...          0.0      0.0              0.965517\n",
            "363362  363362  493340  493341  ...          0.0      0.0              0.965517\n",
            "\n",
            "[3 rows x 28 columns]\n",
            "Empty DataFrame\n",
            "Columns: [id, qid1, qid2, question1, question2, is_duplicate, freq_qid1, freq_qid2, lenq1, lenq2, q1_n_words, q2_n_words, word_Common, word_Total, word_share, freq_q1+q2, freq_q1-q2, cwc_min, cwc_max, csc_min, csc_max, ctc_min, ctc_max, first_word_eq, last_word_eq, abs_len_diff, mean_len, longest_substr_ratio]\n",
            "Index: []\n"
          ],
          "name": "stdout"
        }
      ]
    },
    {
      "cell_type": "code",
      "metadata": {
        "colab": {
          "base_uri": "https://localhost:8080/"
        },
        "id": "EBuClw73Xyk1",
        "outputId": "ee6af2e2-7cb5-4888-be04-cbc3644af157"
      },
      "source": [
        "################## Preprocess ##################\n",
        "\n",
        "Q1 = data['question1'].values.tolist()\n",
        "Q2 = data['question2'].values.tolist()\n",
        "\n",
        "clean_Q1 = []\n",
        "clean_Q2 = []\n",
        "\n",
        "for i in tqdm(range(0,len(Q1))):\n",
        "  Question1 = Q1[i]\n",
        "  Question2 = Q2[i]\n",
        "  \n",
        "  \n",
        "  clean_Q1.append(preprocess(Question1))\n",
        "  clean_Q2.append(preprocess(Question2))\n",
        "\n",
        "\n",
        "\n",
        "# adding them into the dataset \n",
        "\n",
        "data['Clean_Q1'] = clean_Q1\n",
        "data['Clean_Q2'] = clean_Q2\n",
        "\n",
        "#df = pd.DataFrame(list(zip(clean_Q1, clean_Q2)), columns =['Clean_Q1', 'clean_Q2']) \n",
        "\n"
      ],
      "execution_count": null,
      "outputs": [
        {
          "output_type": "stream",
          "text": [
            "100%|██████████| 404290/404290 [06:48<00:00, 990.90it/s]\n"
          ],
          "name": "stderr"
        }
      ]
    },
    {
      "cell_type": "code",
      "metadata": {
        "id": "hFEaUFIFew93"
      },
      "source": [
        "# choose eqaul portion of positive and negative data and merege them together\n",
        "\n",
        "positive_df = data[data['is_duplicate'] == 1 ].sample(n=1200, random_state=0)\n",
        "negative_df = data[data['is_duplicate'] == 0 ].sample(n=1200, random_state=0)\n",
        "final_df = pd.concat([positive_df, negative_df])\n",
        "\n"
      ],
      "execution_count": null,
      "outputs": []
    },
    {
      "cell_type": "code",
      "metadata": {
        "id": "5jBo7BF8rEsb",
        "colab": {
          "base_uri": "https://localhost:8080/",
          "height": 185
        },
        "outputId": "0baf53a5-6a05-4608-ecf7-f14ae34146f0"
      },
      "source": [
        "final_df.head(1)"
      ],
      "execution_count": null,
      "outputs": [
        {
          "output_type": "execute_result",
          "data": {
            "text/html": [
              "<div>\n",
              "<style scoped>\n",
              "    .dataframe tbody tr th:only-of-type {\n",
              "        vertical-align: middle;\n",
              "    }\n",
              "\n",
              "    .dataframe tbody tr th {\n",
              "        vertical-align: top;\n",
              "    }\n",
              "\n",
              "    .dataframe thead th {\n",
              "        text-align: right;\n",
              "    }\n",
              "</style>\n",
              "<table border=\"1\" class=\"dataframe\">\n",
              "  <thead>\n",
              "    <tr style=\"text-align: right;\">\n",
              "      <th></th>\n",
              "      <th>id</th>\n",
              "      <th>qid1</th>\n",
              "      <th>qid2</th>\n",
              "      <th>question1</th>\n",
              "      <th>question2</th>\n",
              "      <th>is_duplicate</th>\n",
              "      <th>freq_qid1</th>\n",
              "      <th>freq_qid2</th>\n",
              "      <th>lenq1</th>\n",
              "      <th>lenq2</th>\n",
              "      <th>q1_n_words</th>\n",
              "      <th>q2_n_words</th>\n",
              "      <th>word_Common</th>\n",
              "      <th>word_Total</th>\n",
              "      <th>word_share</th>\n",
              "      <th>freq_q1+q2</th>\n",
              "      <th>freq_q1-q2</th>\n",
              "      <th>cwc_min</th>\n",
              "      <th>cwc_max</th>\n",
              "      <th>csc_min</th>\n",
              "      <th>csc_max</th>\n",
              "      <th>ctc_min</th>\n",
              "      <th>ctc_max</th>\n",
              "      <th>first_word_eq</th>\n",
              "      <th>last_word_eq</th>\n",
              "      <th>abs_len_diff</th>\n",
              "      <th>mean_len</th>\n",
              "      <th>longest_substr_ratio</th>\n",
              "      <th>Clean_Q1</th>\n",
              "      <th>Clean_Q2</th>\n",
              "    </tr>\n",
              "  </thead>\n",
              "  <tbody>\n",
              "    <tr>\n",
              "      <th>35115</th>\n",
              "      <td>35115</td>\n",
              "      <td>64212</td>\n",
              "      <td>64213</td>\n",
              "      <td>What minor would complement a Computer Science...</td>\n",
              "      <td>What is a good minor that will compliment a Co...</td>\n",
              "      <td>1</td>\n",
              "      <td>3</td>\n",
              "      <td>1</td>\n",
              "      <td>53</td>\n",
              "      <td>67</td>\n",
              "      <td>8</td>\n",
              "      <td>12</td>\n",
              "      <td>6</td>\n",
              "      <td>20</td>\n",
              "      <td>0.3</td>\n",
              "      <td>4</td>\n",
              "      <td>2</td>\n",
              "      <td>0.666656</td>\n",
              "      <td>0.666656</td>\n",
              "      <td>0.99995</td>\n",
              "      <td>0.399992</td>\n",
              "      <td>0.749991</td>\n",
              "      <td>0.499996</td>\n",
              "      <td>1.0</td>\n",
              "      <td>1.0</td>\n",
              "      <td>4.0</td>\n",
              "      <td>10.0</td>\n",
              "      <td>0.965517</td>\n",
              "      <td>what minor would complement a computer science...</td>\n",
              "      <td>what is a good minor that will compliment a co...</td>\n",
              "    </tr>\n",
              "  </tbody>\n",
              "</table>\n",
              "</div>"
            ],
            "text/plain": [
              "          id  ...                                           Clean_Q2\n",
              "35115  35115  ...  what is a good minor that will compliment a co...\n",
              "\n",
              "[1 rows x 30 columns]"
            ]
          },
          "metadata": {
            "tags": []
          },
          "execution_count": 58
        }
      ]
    },
    {
      "cell_type": "code",
      "metadata": {
        "id": "Wo96EQaRgQ0m",
        "colab": {
          "base_uri": "https://localhost:8080/"
        },
        "outputId": "7aabf988-3aab-4c6d-c519-b8adeddb732d"
      },
      "source": [
        "print(\"Total dataframe rows and coulmns: \",final_df.shape)\n",
        "print(\"Total positive data: \",final_df[final_df['is_duplicate']== 1].shape)\n",
        "print(\"Total negative data: \",final_df[final_df['is_duplicate']== 0].shape)"
      ],
      "execution_count": null,
      "outputs": [
        {
          "output_type": "stream",
          "text": [
            "Total dataframe rows and coulmns:  (2400, 30)\n",
            "Total positive data:  (1200, 30)\n",
            "Total negative data:  (1200, 30)\n"
          ],
          "name": "stdout"
        }
      ]
    },
    {
      "cell_type": "code",
      "metadata": {
        "id": "_ORmAN1Cm7SO",
        "colab": {
          "base_uri": "https://localhost:8080/",
          "height": 185
        },
        "outputId": "2c3c6c3d-5ae1-47b2-de4d-b5f20fcb5403"
      },
      "source": [
        "final_df.drop(final_df.index[0], inplace=True)\n",
        "final_df.head(1)"
      ],
      "execution_count": null,
      "outputs": [
        {
          "output_type": "execute_result",
          "data": {
            "text/html": [
              "<div>\n",
              "<style scoped>\n",
              "    .dataframe tbody tr th:only-of-type {\n",
              "        vertical-align: middle;\n",
              "    }\n",
              "\n",
              "    .dataframe tbody tr th {\n",
              "        vertical-align: top;\n",
              "    }\n",
              "\n",
              "    .dataframe thead th {\n",
              "        text-align: right;\n",
              "    }\n",
              "</style>\n",
              "<table border=\"1\" class=\"dataframe\">\n",
              "  <thead>\n",
              "    <tr style=\"text-align: right;\">\n",
              "      <th></th>\n",
              "      <th>id</th>\n",
              "      <th>qid1</th>\n",
              "      <th>qid2</th>\n",
              "      <th>question1</th>\n",
              "      <th>question2</th>\n",
              "      <th>is_duplicate</th>\n",
              "      <th>freq_qid1</th>\n",
              "      <th>freq_qid2</th>\n",
              "      <th>lenq1</th>\n",
              "      <th>lenq2</th>\n",
              "      <th>q1_n_words</th>\n",
              "      <th>q2_n_words</th>\n",
              "      <th>word_Common</th>\n",
              "      <th>word_Total</th>\n",
              "      <th>word_share</th>\n",
              "      <th>freq_q1+q2</th>\n",
              "      <th>freq_q1-q2</th>\n",
              "      <th>cwc_min</th>\n",
              "      <th>cwc_max</th>\n",
              "      <th>csc_min</th>\n",
              "      <th>csc_max</th>\n",
              "      <th>ctc_min</th>\n",
              "      <th>ctc_max</th>\n",
              "      <th>first_word_eq</th>\n",
              "      <th>last_word_eq</th>\n",
              "      <th>abs_len_diff</th>\n",
              "      <th>mean_len</th>\n",
              "      <th>longest_substr_ratio</th>\n",
              "      <th>Clean_Q1</th>\n",
              "      <th>Clean_Q2</th>\n",
              "    </tr>\n",
              "  </thead>\n",
              "  <tbody>\n",
              "    <tr>\n",
              "      <th>327832</th>\n",
              "      <td>327832</td>\n",
              "      <td>454305</td>\n",
              "      <td>454306</td>\n",
              "      <td>How can I materialize an idea?</td>\n",
              "      <td>What is the best way to materialize on an idea?</td>\n",
              "      <td>1</td>\n",
              "      <td>1</td>\n",
              "      <td>1</td>\n",
              "      <td>30</td>\n",
              "      <td>47</td>\n",
              "      <td>6</td>\n",
              "      <td>10</td>\n",
              "      <td>3</td>\n",
              "      <td>16</td>\n",
              "      <td>0.1875</td>\n",
              "      <td>2</td>\n",
              "      <td>0</td>\n",
              "      <td>0.99995</td>\n",
              "      <td>0.499988</td>\n",
              "      <td>0.249994</td>\n",
              "      <td>0.166664</td>\n",
              "      <td>0.499992</td>\n",
              "      <td>0.299997</td>\n",
              "      <td>0.0</td>\n",
              "      <td>0.0</td>\n",
              "      <td>4.0</td>\n",
              "      <td>8.0</td>\n",
              "      <td>0.965517</td>\n",
              "      <td>how can i materialize an idea</td>\n",
              "      <td>what is the best way to materialize on an idea</td>\n",
              "    </tr>\n",
              "  </tbody>\n",
              "</table>\n",
              "</div>"
            ],
            "text/plain": [
              "            id  ...                                        Clean_Q2\n",
              "327832  327832  ...  what is the best way to materialize on an idea\n",
              "\n",
              "[1 rows x 30 columns]"
            ]
          },
          "metadata": {
            "tags": []
          },
          "execution_count": 60
        }
      ]
    },
    {
      "cell_type": "markdown",
      "metadata": {
        "id": "_ZrsAeA-5HOw"
      },
      "source": [
        ""
      ]
    },
    {
      "cell_type": "markdown",
      "metadata": {
        "id": "SJy2OV1D5HUJ"
      },
      "source": [
        ""
      ]
    },
    {
      "cell_type": "code",
      "metadata": {
        "id": "vqfwQRFO36EO"
      },
      "source": [
        "y_ = final_df['is_duplicate']\n",
        "final_df.drop(['question1'], axis=1, inplace=True)\n",
        "final_df.drop(['question2'], axis=1, inplace=True)"
      ],
      "execution_count": null,
      "outputs": []
    },
    {
      "cell_type": "code",
      "metadata": {
        "id": "YTjtkbbMnEqh",
        "colab": {
          "base_uri": "https://localhost:8080/",
          "height": 185
        },
        "outputId": "6d6415d5-3366-427a-aceb-758064e82773"
      },
      "source": [
        "final_df.head(1)"
      ],
      "execution_count": null,
      "outputs": [
        {
          "output_type": "execute_result",
          "data": {
            "text/html": [
              "<div>\n",
              "<style scoped>\n",
              "    .dataframe tbody tr th:only-of-type {\n",
              "        vertical-align: middle;\n",
              "    }\n",
              "\n",
              "    .dataframe tbody tr th {\n",
              "        vertical-align: top;\n",
              "    }\n",
              "\n",
              "    .dataframe thead th {\n",
              "        text-align: right;\n",
              "    }\n",
              "</style>\n",
              "<table border=\"1\" class=\"dataframe\">\n",
              "  <thead>\n",
              "    <tr style=\"text-align: right;\">\n",
              "      <th></th>\n",
              "      <th>id</th>\n",
              "      <th>qid1</th>\n",
              "      <th>qid2</th>\n",
              "      <th>is_duplicate</th>\n",
              "      <th>freq_qid1</th>\n",
              "      <th>freq_qid2</th>\n",
              "      <th>lenq1</th>\n",
              "      <th>lenq2</th>\n",
              "      <th>q1_n_words</th>\n",
              "      <th>q2_n_words</th>\n",
              "      <th>word_Common</th>\n",
              "      <th>word_Total</th>\n",
              "      <th>word_share</th>\n",
              "      <th>freq_q1+q2</th>\n",
              "      <th>freq_q1-q2</th>\n",
              "      <th>cwc_min</th>\n",
              "      <th>cwc_max</th>\n",
              "      <th>csc_min</th>\n",
              "      <th>csc_max</th>\n",
              "      <th>ctc_min</th>\n",
              "      <th>ctc_max</th>\n",
              "      <th>first_word_eq</th>\n",
              "      <th>last_word_eq</th>\n",
              "      <th>abs_len_diff</th>\n",
              "      <th>mean_len</th>\n",
              "      <th>longest_substr_ratio</th>\n",
              "      <th>Clean_Q1</th>\n",
              "      <th>Clean_Q2</th>\n",
              "    </tr>\n",
              "  </thead>\n",
              "  <tbody>\n",
              "    <tr>\n",
              "      <th>327832</th>\n",
              "      <td>327832</td>\n",
              "      <td>454305</td>\n",
              "      <td>454306</td>\n",
              "      <td>1</td>\n",
              "      <td>1</td>\n",
              "      <td>1</td>\n",
              "      <td>30</td>\n",
              "      <td>47</td>\n",
              "      <td>6</td>\n",
              "      <td>10</td>\n",
              "      <td>3</td>\n",
              "      <td>16</td>\n",
              "      <td>0.1875</td>\n",
              "      <td>2</td>\n",
              "      <td>0</td>\n",
              "      <td>0.99995</td>\n",
              "      <td>0.499988</td>\n",
              "      <td>0.249994</td>\n",
              "      <td>0.166664</td>\n",
              "      <td>0.499992</td>\n",
              "      <td>0.299997</td>\n",
              "      <td>0.0</td>\n",
              "      <td>0.0</td>\n",
              "      <td>4.0</td>\n",
              "      <td>8.0</td>\n",
              "      <td>0.965517</td>\n",
              "      <td>how can i materialize an idea</td>\n",
              "      <td>what is the best way to materialize on an idea</td>\n",
              "    </tr>\n",
              "  </tbody>\n",
              "</table>\n",
              "</div>"
            ],
            "text/plain": [
              "            id  ...                                        Clean_Q2\n",
              "327832  327832  ...  what is the best way to materialize on an idea\n",
              "\n",
              "[1 rows x 28 columns]"
            ]
          },
          "metadata": {
            "tags": []
          },
          "execution_count": 62
        }
      ]
    },
    {
      "cell_type": "code",
      "metadata": {
        "id": "9-JFMiNQnMEd",
        "colab": {
          "base_uri": "https://localhost:8080/"
        },
        "outputId": "aa2f3322-fa91-4a62-94cb-e03d0383513d"
      },
      "source": [
        "y_.head(1)"
      ],
      "execution_count": null,
      "outputs": [
        {
          "output_type": "execute_result",
          "data": {
            "text/plain": [
              "327832    1\n",
              "Name: is_duplicate, dtype: int64"
            ]
          },
          "metadata": {
            "tags": []
          },
          "execution_count": 63
        }
      ]
    },
    {
      "cell_type": "code",
      "metadata": {
        "id": "YP5eK_4Of7II"
      },
      "source": [
        "# train test split (80:20)\n",
        "X_train, X_test, y_train, y_test = train_test_split(final_df, y_, test_size=0.20, random_state=0)\n"
      ],
      "execution_count": null,
      "outputs": []
    },
    {
      "cell_type": "code",
      "metadata": {
        "id": "qSR_0jcp4qD9",
        "colab": {
          "base_uri": "https://localhost:8080/",
          "height": 185
        },
        "outputId": "6af852bc-397c-4317-e08e-d68ab47b5a79"
      },
      "source": [
        "X_train.head(1)"
      ],
      "execution_count": null,
      "outputs": [
        {
          "output_type": "execute_result",
          "data": {
            "text/html": [
              "<div>\n",
              "<style scoped>\n",
              "    .dataframe tbody tr th:only-of-type {\n",
              "        vertical-align: middle;\n",
              "    }\n",
              "\n",
              "    .dataframe tbody tr th {\n",
              "        vertical-align: top;\n",
              "    }\n",
              "\n",
              "    .dataframe thead th {\n",
              "        text-align: right;\n",
              "    }\n",
              "</style>\n",
              "<table border=\"1\" class=\"dataframe\">\n",
              "  <thead>\n",
              "    <tr style=\"text-align: right;\">\n",
              "      <th></th>\n",
              "      <th>id</th>\n",
              "      <th>qid1</th>\n",
              "      <th>qid2</th>\n",
              "      <th>is_duplicate</th>\n",
              "      <th>freq_qid1</th>\n",
              "      <th>freq_qid2</th>\n",
              "      <th>lenq1</th>\n",
              "      <th>lenq2</th>\n",
              "      <th>q1_n_words</th>\n",
              "      <th>q2_n_words</th>\n",
              "      <th>word_Common</th>\n",
              "      <th>word_Total</th>\n",
              "      <th>word_share</th>\n",
              "      <th>freq_q1+q2</th>\n",
              "      <th>freq_q1-q2</th>\n",
              "      <th>cwc_min</th>\n",
              "      <th>cwc_max</th>\n",
              "      <th>csc_min</th>\n",
              "      <th>csc_max</th>\n",
              "      <th>ctc_min</th>\n",
              "      <th>ctc_max</th>\n",
              "      <th>first_word_eq</th>\n",
              "      <th>last_word_eq</th>\n",
              "      <th>abs_len_diff</th>\n",
              "      <th>mean_len</th>\n",
              "      <th>longest_substr_ratio</th>\n",
              "      <th>Clean_Q1</th>\n",
              "      <th>Clean_Q2</th>\n",
              "    </tr>\n",
              "  </thead>\n",
              "  <tbody>\n",
              "    <tr>\n",
              "      <th>152314</th>\n",
              "      <td>152314</td>\n",
              "      <td>239315</td>\n",
              "      <td>239316</td>\n",
              "      <td>0</td>\n",
              "      <td>1</td>\n",
              "      <td>1</td>\n",
              "      <td>45</td>\n",
              "      <td>34</td>\n",
              "      <td>7</td>\n",
              "      <td>6</td>\n",
              "      <td>5</td>\n",
              "      <td>13</td>\n",
              "      <td>0.384615</td>\n",
              "      <td>2</td>\n",
              "      <td>0</td>\n",
              "      <td>0.99995</td>\n",
              "      <td>0.666644</td>\n",
              "      <td>0.749981</td>\n",
              "      <td>0.749981</td>\n",
              "      <td>0.833319</td>\n",
              "      <td>0.714276</td>\n",
              "      <td>1.0</td>\n",
              "      <td>1.0</td>\n",
              "      <td>1.0</td>\n",
              "      <td>6.5</td>\n",
              "      <td>0.965517</td>\n",
              "      <td>what do foreigners not know about bangladesh</td>\n",
              "      <td>what do you know about bangladesh</td>\n",
              "    </tr>\n",
              "  </tbody>\n",
              "</table>\n",
              "</div>"
            ],
            "text/plain": [
              "            id  ...                           Clean_Q2\n",
              "152314  152314  ...  what do you know about bangladesh\n",
              "\n",
              "[1 rows x 28 columns]"
            ]
          },
          "metadata": {
            "tags": []
          },
          "execution_count": 65
        }
      ]
    },
    {
      "cell_type": "code",
      "metadata": {
        "id": "LdgQMSaD4uHn",
        "colab": {
          "base_uri": "https://localhost:8080/",
          "height": 151
        },
        "outputId": "53f400c0-3349-42c1-c40b-e4f35da48cbf"
      },
      "source": [
        "X_test.head(1)"
      ],
      "execution_count": null,
      "outputs": [
        {
          "output_type": "execute_result",
          "data": {
            "text/html": [
              "<div>\n",
              "<style scoped>\n",
              "    .dataframe tbody tr th:only-of-type {\n",
              "        vertical-align: middle;\n",
              "    }\n",
              "\n",
              "    .dataframe tbody tr th {\n",
              "        vertical-align: top;\n",
              "    }\n",
              "\n",
              "    .dataframe thead th {\n",
              "        text-align: right;\n",
              "    }\n",
              "</style>\n",
              "<table border=\"1\" class=\"dataframe\">\n",
              "  <thead>\n",
              "    <tr style=\"text-align: right;\">\n",
              "      <th></th>\n",
              "      <th>id</th>\n",
              "      <th>qid1</th>\n",
              "      <th>qid2</th>\n",
              "      <th>is_duplicate</th>\n",
              "      <th>freq_qid1</th>\n",
              "      <th>freq_qid2</th>\n",
              "      <th>lenq1</th>\n",
              "      <th>lenq2</th>\n",
              "      <th>q1_n_words</th>\n",
              "      <th>q2_n_words</th>\n",
              "      <th>word_Common</th>\n",
              "      <th>word_Total</th>\n",
              "      <th>word_share</th>\n",
              "      <th>freq_q1+q2</th>\n",
              "      <th>freq_q1-q2</th>\n",
              "      <th>cwc_min</th>\n",
              "      <th>cwc_max</th>\n",
              "      <th>csc_min</th>\n",
              "      <th>csc_max</th>\n",
              "      <th>ctc_min</th>\n",
              "      <th>ctc_max</th>\n",
              "      <th>first_word_eq</th>\n",
              "      <th>last_word_eq</th>\n",
              "      <th>abs_len_diff</th>\n",
              "      <th>mean_len</th>\n",
              "      <th>longest_substr_ratio</th>\n",
              "      <th>Clean_Q1</th>\n",
              "      <th>Clean_Q2</th>\n",
              "    </tr>\n",
              "  </thead>\n",
              "  <tbody>\n",
              "    <tr>\n",
              "      <th>361950</th>\n",
              "      <td>361950</td>\n",
              "      <td>491826</td>\n",
              "      <td>491827</td>\n",
              "      <td>0</td>\n",
              "      <td>1</td>\n",
              "      <td>1</td>\n",
              "      <td>30</td>\n",
              "      <td>29</td>\n",
              "      <td>6</td>\n",
              "      <td>6</td>\n",
              "      <td>4</td>\n",
              "      <td>12</td>\n",
              "      <td>0.333333</td>\n",
              "      <td>2</td>\n",
              "      <td>0</td>\n",
              "      <td>0.999967</td>\n",
              "      <td>0.999967</td>\n",
              "      <td>0.666644</td>\n",
              "      <td>0.666644</td>\n",
              "      <td>0.833319</td>\n",
              "      <td>0.833319</td>\n",
              "      <td>1.0</td>\n",
              "      <td>1.0</td>\n",
              "      <td>0.0</td>\n",
              "      <td>6.0</td>\n",
              "      <td>0.965517</td>\n",
              "      <td>how can i stop using whatsapp</td>\n",
              "      <td>how do i stop using whatsapp</td>\n",
              "    </tr>\n",
              "  </tbody>\n",
              "</table>\n",
              "</div>"
            ],
            "text/plain": [
              "            id  ...                      Clean_Q2\n",
              "361950  361950  ...  how do i stop using whatsapp\n",
              "\n",
              "[1 rows x 28 columns]"
            ]
          },
          "metadata": {
            "tags": []
          },
          "execution_count": 66
        }
      ]
    },
    {
      "cell_type": "code",
      "metadata": {
        "id": "jdZ3Bs415J_i",
        "colab": {
          "base_uri": "https://localhost:8080/",
          "height": 137
        },
        "outputId": "cd149f1a-d120-42fa-920b-53c44d18aab7"
      },
      "source": [
        "X_train_Q1 = list(X_train['Clean_Q1'])\n",
        "X_train_Q2 = list(X_train['Clean_Q2'])\n",
        "\n",
        "X_test_Q1 = list(X_test['Clean_Q1'])\n",
        "X_test_Q2 = list(X_test['Clean_Q2'])\n"
      ],
      "execution_count": null,
      "outputs": [
        {
          "output_type": "execute_result",
          "data": {
            "application/vnd.google.colaboratory.intrinsic+json": {
              "type": "string"
            },
            "text/plain": [
              "'\\n# X_train_Q1 tfidf \\ntfidf = TfidfVectorizer(lowercase=False, ngram_range=(1, 1))\\ntfidf.fit_transform(X_train_Q1)\\n# dict key:word and value:tf-idf score\\nX_train_Q1_word_tfidf = dict(zip(tfidf.get_feature_names(), tfidf.idf_))\\n\\n\\n# X_train_Q2 tfidf \\ntfidf = TfidfVectorizer(lowercase=False, ngram_range=(1, 1))\\ntfidf.fit_transform(X_train_Q2)\\n# dict key:word and value:tf-idf score\\nX_train_Q2_word_tfidf = dict(zip(tfidf.get_feature_names(), tfidf.idf_))\\n\\n\\n# X_test_Q1 tfidf \\ntfidf = TfidfVectorizer(lowercase=False, ngram_range=(1, 1))\\ntfidf.fit_transform(X_test_Q1)\\n# dict key:word and value:tf-idf score\\nX_test_Q1_word_tfidf = dict(zip(tfidf.get_feature_names(), tfidf.idf_))\\n\\n\\n# X_test_Q2 tfidf \\ntfidf = TfidfVectorizer(lowercase=False, ngram_range=(1, 1))\\ntfidf.fit_transform(X_test_Q2)\\n# dict key:word and value:tf-idf score\\nX_test_Q2_word_tfidf = dict(zip(tfidf.get_feature_names(), tfidf.idf_))\\n\\n\\n'"
            ]
          },
          "metadata": {
            "tags": []
          },
          "execution_count": 67
        }
      ]
    },
    {
      "cell_type": "code",
      "metadata": {
        "id": "oG_-IeeApeZt"
      },
      "source": [
        "from sklearn.feature_extraction.text import TfidfVectorizer\n",
        "from sklearn.feature_extraction.text import CountVectorizer\n",
        "\n",
        "\n",
        "# merge texts\n",
        "questions_X_train = X_train_Q1 + X_train_Q2\n",
        "questions_X_test = X_test_Q1 + X_test_Q2\n",
        "\n",
        "# Calculate tfidf value for each word\n",
        "\n",
        "tfidf = TfidfVectorizer(lowercase=False )\n",
        "\n",
        "tfidf.fit_transform(questions_X_train)\n",
        "# dict key:word and value:tf-idf score\n",
        "word2tfidf_X_train = dict(zip(tfidf.get_feature_names(), tfidf.idf_))\n",
        "\n",
        "tfidf.fit_transform(questions_X_test)\n",
        "# dict key:word and value:tf-idf score\n",
        "word2tfidf_X_test = dict(zip(tfidf.get_feature_names(), tfidf.idf_))"
      ],
      "execution_count": null,
      "outputs": []
    },
    {
      "cell_type": "code",
      "metadata": {
        "id": "pFuyGPr85y06",
        "colab": {
          "base_uri": "https://localhost:8080/"
        },
        "outputId": "a7ac974a-38ee-45fb-e9a7-23455f6a0b67"
      },
      "source": [
        "# pre trained glove vector from spacy\n",
        "!pip install spacy\n",
        "import spacy\n"
      ],
      "execution_count": null,
      "outputs": [
        {
          "output_type": "stream",
          "text": [
            "Requirement already satisfied: spacy in /usr/local/lib/python3.7/dist-packages (2.2.4)\n",
            "Requirement already satisfied: thinc==7.4.0 in /usr/local/lib/python3.7/dist-packages (from spacy) (7.4.0)\n",
            "Requirement already satisfied: cymem<2.1.0,>=2.0.2 in /usr/local/lib/python3.7/dist-packages (from spacy) (2.0.5)\n",
            "Requirement already satisfied: tqdm<5.0.0,>=4.38.0 in /usr/local/lib/python3.7/dist-packages (from spacy) (4.41.1)\n",
            "Requirement already satisfied: preshed<3.1.0,>=3.0.2 in /usr/local/lib/python3.7/dist-packages (from spacy) (3.0.5)\n",
            "Requirement already satisfied: blis<0.5.0,>=0.4.0 in /usr/local/lib/python3.7/dist-packages (from spacy) (0.4.1)\n",
            "Requirement already satisfied: srsly<1.1.0,>=1.0.2 in /usr/local/lib/python3.7/dist-packages (from spacy) (1.0.5)\n",
            "Requirement already satisfied: wasabi<1.1.0,>=0.4.0 in /usr/local/lib/python3.7/dist-packages (from spacy) (0.8.2)\n",
            "Requirement already satisfied: requests<3.0.0,>=2.13.0 in /usr/local/lib/python3.7/dist-packages (from spacy) (2.23.0)\n",
            "Requirement already satisfied: murmurhash<1.1.0,>=0.28.0 in /usr/local/lib/python3.7/dist-packages (from spacy) (1.0.5)\n",
            "Requirement already satisfied: setuptools in /usr/local/lib/python3.7/dist-packages (from spacy) (54.0.0)\n",
            "Requirement already satisfied: plac<1.2.0,>=0.9.6 in /usr/local/lib/python3.7/dist-packages (from spacy) (1.1.3)\n",
            "Requirement already satisfied: numpy>=1.15.0 in /usr/local/lib/python3.7/dist-packages (from spacy) (1.19.5)\n",
            "Requirement already satisfied: catalogue<1.1.0,>=0.0.7 in /usr/local/lib/python3.7/dist-packages (from spacy) (1.0.0)\n",
            "Requirement already satisfied: idna<3,>=2.5 in /usr/local/lib/python3.7/dist-packages (from requests<3.0.0,>=2.13.0->spacy) (2.10)\n",
            "Requirement already satisfied: chardet<4,>=3.0.2 in /usr/local/lib/python3.7/dist-packages (from requests<3.0.0,>=2.13.0->spacy) (3.0.4)\n",
            "Requirement already satisfied: certifi>=2017.4.17 in /usr/local/lib/python3.7/dist-packages (from requests<3.0.0,>=2.13.0->spacy) (2020.12.5)\n",
            "Requirement already satisfied: urllib3!=1.25.0,!=1.25.1,<1.26,>=1.21.1 in /usr/local/lib/python3.7/dist-packages (from requests<3.0.0,>=2.13.0->spacy) (1.24.3)\n",
            "Requirement already satisfied: importlib-metadata>=0.20; python_version < \"3.8\" in /usr/local/lib/python3.7/dist-packages (from catalogue<1.1.0,>=0.0.7->spacy) (3.7.0)\n",
            "Requirement already satisfied: zipp>=0.5 in /usr/local/lib/python3.7/dist-packages (from importlib-metadata>=0.20; python_version < \"3.8\"->catalogue<1.1.0,>=0.0.7->spacy) (3.4.1)\n",
            "Requirement already satisfied: typing-extensions>=3.6.4; python_version < \"3.8\" in /usr/local/lib/python3.7/dist-packages (from importlib-metadata>=0.20; python_version < \"3.8\"->catalogue<1.1.0,>=0.0.7->spacy) (3.7.4.3)\n"
          ],
          "name": "stdout"
        }
      ]
    },
    {
      "cell_type": "code",
      "metadata": {
        "id": "rbs8gRT05zFG"
      },
      "source": [
        "# en_vectors_web_lg, which includes over 1 million unique vectors.\n",
        "\n",
        "def tfidf_glove(sentence, dataset_type):\n",
        "\n",
        "  nlp = spacy.load('en_core_web_sm')\n",
        "  # word document spacy \n",
        "  doc = nlp(sentence) \n",
        "  #dimensions of vectors \n",
        "  mean_vector = np.zeros([len(doc), len(doc[0].vector)])\n",
        "\n",
        "  for word in doc:\n",
        "    # word2vec\n",
        "    vec1 = word.vector\n",
        "    # fetch df score\n",
        "    try:\n",
        "      if dataset_type == 'X_train':\n",
        "        tfidf = word2tfidf_X_train[str(word)]\n",
        "      if dataset_type == 'X_test':\n",
        "        tfidf = word2tfidf_X_test[str(word)]\n",
        "    except:\n",
        "      tfidf = 0\n",
        "    # compute final vec\n",
        "    mean_vector = mean_vector + vec1 * tfidf\n",
        "\n",
        "  #mean\n",
        "  mean_vector = mean_vector.mean(axis=0)\n",
        "\n",
        "  return mean_vector\n"
      ],
      "execution_count": null,
      "outputs": []
    },
    {
      "cell_type": "code",
      "metadata": {
        "id": "EnzIvuxXtJRK"
      },
      "source": [
        "X_train_Q1 = list(X_train['Clean_Q1'])\n",
        "X_train_Q2 = list(X_train['Clean_Q2'])\n",
        "\n",
        "X_test_Q1 = list(X_test['Clean_Q1'])\n",
        "X_test_Q2 = list(X_test['Clean_Q1'])"
      ],
      "execution_count": null,
      "outputs": []
    },
    {
      "cell_type": "code",
      "metadata": {
        "id": "U10E0Qv3tNCx",
        "colab": {
          "base_uri": "https://localhost:8080/"
        },
        "outputId": "47c650ef-4959-4624-ba87-5085d60ec5a2"
      },
      "source": [
        "# calculating tfidf glove vector and storing them into list\n",
        "X_train_Q1_GV = []\n",
        "X_train_Q2_GV = []\n",
        "\n",
        "X_test_Q1_GV = []\n",
        "X_test_Q2_GV = []\n",
        "\n",
        "for sentence in tqdm(X_train_Q1):\n",
        "  X_train_Q1_GV.append(tfidf_glove(sentence, dataset_type='X_train'))\n",
        "\n",
        "for sentence in tqdm(X_train_Q2):\n",
        "  X_train_Q2_GV.append(tfidf_glove(sentence, dataset_type='X_train'))\n",
        "\n",
        "for sentence in tqdm(X_test_Q1):\n",
        "  X_test_Q1_GV.append(tfidf_glove(sentence, dataset_type='X_test'))\n",
        "\n",
        "for sentence in tqdm(X_test_Q2):\n",
        "  X_test_Q2_GV.append(tfidf_glove(sentence, dataset_type='X_test'))\n",
        "\n"
      ],
      "execution_count": null,
      "outputs": [
        {
          "output_type": "stream",
          "text": [
            "100%|██████████| 1919/1919 [21:17<00:00,  1.50it/s]\n",
            "100%|██████████| 1919/1919 [21:17<00:00,  1.50it/s]\n",
            "100%|██████████| 480/480 [05:20<00:00,  1.50it/s]\n",
            "100%|██████████| 480/480 [05:22<00:00,  1.49it/s]\n"
          ],
          "name": "stderr"
        }
      ]
    },
    {
      "cell_type": "code",
      "metadata": {
        "id": "v1Sl5AAz2S7z"
      },
      "source": [
        "\n"
      ],
      "execution_count": null,
      "outputs": []
    },
    {
      "cell_type": "code",
      "metadata": {
        "id": "M4voZXwg5zNI",
        "colab": {
          "base_uri": "https://localhost:8080/",
          "height": 185
        },
        "outputId": "1a253e56-ced3-4452-f62d-569cdeea5930"
      },
      "source": [
        "X_train.head(1)"
      ],
      "execution_count": null,
      "outputs": [
        {
          "output_type": "execute_result",
          "data": {
            "text/html": [
              "<div>\n",
              "<style scoped>\n",
              "    .dataframe tbody tr th:only-of-type {\n",
              "        vertical-align: middle;\n",
              "    }\n",
              "\n",
              "    .dataframe tbody tr th {\n",
              "        vertical-align: top;\n",
              "    }\n",
              "\n",
              "    .dataframe thead th {\n",
              "        text-align: right;\n",
              "    }\n",
              "</style>\n",
              "<table border=\"1\" class=\"dataframe\">\n",
              "  <thead>\n",
              "    <tr style=\"text-align: right;\">\n",
              "      <th></th>\n",
              "      <th>id</th>\n",
              "      <th>qid1</th>\n",
              "      <th>qid2</th>\n",
              "      <th>is_duplicate</th>\n",
              "      <th>freq_qid1</th>\n",
              "      <th>freq_qid2</th>\n",
              "      <th>lenq1</th>\n",
              "      <th>lenq2</th>\n",
              "      <th>q1_n_words</th>\n",
              "      <th>q2_n_words</th>\n",
              "      <th>word_Common</th>\n",
              "      <th>word_Total</th>\n",
              "      <th>word_share</th>\n",
              "      <th>freq_q1+q2</th>\n",
              "      <th>freq_q1-q2</th>\n",
              "      <th>cwc_min</th>\n",
              "      <th>cwc_max</th>\n",
              "      <th>csc_min</th>\n",
              "      <th>csc_max</th>\n",
              "      <th>ctc_min</th>\n",
              "      <th>ctc_max</th>\n",
              "      <th>first_word_eq</th>\n",
              "      <th>last_word_eq</th>\n",
              "      <th>abs_len_diff</th>\n",
              "      <th>mean_len</th>\n",
              "      <th>longest_substr_ratio</th>\n",
              "      <th>Clean_Q1</th>\n",
              "      <th>Clean_Q2</th>\n",
              "    </tr>\n",
              "  </thead>\n",
              "  <tbody>\n",
              "    <tr>\n",
              "      <th>152314</th>\n",
              "      <td>152314</td>\n",
              "      <td>239315</td>\n",
              "      <td>239316</td>\n",
              "      <td>0</td>\n",
              "      <td>1</td>\n",
              "      <td>1</td>\n",
              "      <td>45</td>\n",
              "      <td>34</td>\n",
              "      <td>7</td>\n",
              "      <td>6</td>\n",
              "      <td>5</td>\n",
              "      <td>13</td>\n",
              "      <td>0.384615</td>\n",
              "      <td>2</td>\n",
              "      <td>0</td>\n",
              "      <td>0.99995</td>\n",
              "      <td>0.666644</td>\n",
              "      <td>0.749981</td>\n",
              "      <td>0.749981</td>\n",
              "      <td>0.833319</td>\n",
              "      <td>0.714276</td>\n",
              "      <td>1.0</td>\n",
              "      <td>1.0</td>\n",
              "      <td>1.0</td>\n",
              "      <td>6.5</td>\n",
              "      <td>0.965517</td>\n",
              "      <td>what do foreigners not know about bangladesh</td>\n",
              "      <td>what do you know about bangladesh</td>\n",
              "    </tr>\n",
              "  </tbody>\n",
              "</table>\n",
              "</div>"
            ],
            "text/plain": [
              "            id  ...                           Clean_Q2\n",
              "152314  152314  ...  what do you know about bangladesh\n",
              "\n",
              "[1 rows x 28 columns]"
            ]
          },
          "metadata": {
            "tags": []
          },
          "execution_count": 73
        }
      ]
    },
    {
      "cell_type": "code",
      "metadata": {
        "id": "DOreVmQgY4bb"
      },
      "source": [
        "# craeting new dataframes for storing glove vector array into df\n",
        "df_train_q1 = pd.DataFrame()\n",
        "df_train_q2 = pd.DataFrame()\n",
        "\n",
        "df_test_q1 = pd.DataFrame()\n",
        "df_test_q2 = pd.DataFrame()"
      ],
      "execution_count": null,
      "outputs": []
    },
    {
      "cell_type": "code",
      "metadata": {
        "id": "WUbdvLIrW1ez"
      },
      "source": [
        "# converting glove vector array into dataframe , ignore_index = True will add data rows wise for particular questions\n",
        "df_train_q1 = df_train_q1.append(list(X_train_Q1_GV), ignore_index = True) \n",
        "df_train_q2 = df_train_q2.append(list(X_train_Q2_GV), ignore_index = True) \n",
        "\n",
        "df_test_q1 = df_test_q1.append(list(X_test_Q1_GV), ignore_index = True) \n",
        "df_test_q2 = df_test_q2.append(list(X_test_Q2_GV), ignore_index = True) \n"
      ],
      "execution_count": null,
      "outputs": []
    },
    {
      "cell_type": "code",
      "metadata": {
        "colab": {
          "base_uri": "https://localhost:8080/",
          "height": 129
        },
        "id": "e-pTMfI2krft",
        "outputId": "778682c7-744c-480a-ff0c-96f516f01137"
      },
      "source": [
        "df_test_q1.head(1)"
      ],
      "execution_count": null,
      "outputs": [
        {
          "output_type": "execute_result",
          "data": {
            "text/html": [
              "<div>\n",
              "<style scoped>\n",
              "    .dataframe tbody tr th:only-of-type {\n",
              "        vertical-align: middle;\n",
              "    }\n",
              "\n",
              "    .dataframe tbody tr th {\n",
              "        vertical-align: top;\n",
              "    }\n",
              "\n",
              "    .dataframe thead th {\n",
              "        text-align: right;\n",
              "    }\n",
              "</style>\n",
              "<table border=\"1\" class=\"dataframe\">\n",
              "  <thead>\n",
              "    <tr style=\"text-align: right;\">\n",
              "      <th></th>\n",
              "      <th>0</th>\n",
              "      <th>1</th>\n",
              "      <th>2</th>\n",
              "      <th>3</th>\n",
              "      <th>4</th>\n",
              "      <th>5</th>\n",
              "      <th>6</th>\n",
              "      <th>7</th>\n",
              "      <th>8</th>\n",
              "      <th>9</th>\n",
              "      <th>10</th>\n",
              "      <th>11</th>\n",
              "      <th>12</th>\n",
              "      <th>13</th>\n",
              "      <th>14</th>\n",
              "      <th>15</th>\n",
              "      <th>16</th>\n",
              "      <th>17</th>\n",
              "      <th>18</th>\n",
              "      <th>19</th>\n",
              "      <th>20</th>\n",
              "      <th>21</th>\n",
              "      <th>22</th>\n",
              "      <th>23</th>\n",
              "      <th>24</th>\n",
              "      <th>25</th>\n",
              "      <th>26</th>\n",
              "      <th>27</th>\n",
              "      <th>28</th>\n",
              "      <th>29</th>\n",
              "      <th>30</th>\n",
              "      <th>31</th>\n",
              "      <th>32</th>\n",
              "      <th>33</th>\n",
              "      <th>34</th>\n",
              "      <th>35</th>\n",
              "      <th>36</th>\n",
              "      <th>37</th>\n",
              "      <th>38</th>\n",
              "      <th>39</th>\n",
              "      <th>...</th>\n",
              "      <th>56</th>\n",
              "      <th>57</th>\n",
              "      <th>58</th>\n",
              "      <th>59</th>\n",
              "      <th>60</th>\n",
              "      <th>61</th>\n",
              "      <th>62</th>\n",
              "      <th>63</th>\n",
              "      <th>64</th>\n",
              "      <th>65</th>\n",
              "      <th>66</th>\n",
              "      <th>67</th>\n",
              "      <th>68</th>\n",
              "      <th>69</th>\n",
              "      <th>70</th>\n",
              "      <th>71</th>\n",
              "      <th>72</th>\n",
              "      <th>73</th>\n",
              "      <th>74</th>\n",
              "      <th>75</th>\n",
              "      <th>76</th>\n",
              "      <th>77</th>\n",
              "      <th>78</th>\n",
              "      <th>79</th>\n",
              "      <th>80</th>\n",
              "      <th>81</th>\n",
              "      <th>82</th>\n",
              "      <th>83</th>\n",
              "      <th>84</th>\n",
              "      <th>85</th>\n",
              "      <th>86</th>\n",
              "      <th>87</th>\n",
              "      <th>88</th>\n",
              "      <th>89</th>\n",
              "      <th>90</th>\n",
              "      <th>91</th>\n",
              "      <th>92</th>\n",
              "      <th>93</th>\n",
              "      <th>94</th>\n",
              "      <th>95</th>\n",
              "    </tr>\n",
              "  </thead>\n",
              "  <tbody>\n",
              "    <tr>\n",
              "      <th>0</th>\n",
              "      <td>-2.918367</td>\n",
              "      <td>-3.684602</td>\n",
              "      <td>-1.603498</td>\n",
              "      <td>-42.853154</td>\n",
              "      <td>61.047675</td>\n",
              "      <td>-13.991431</td>\n",
              "      <td>43.737719</td>\n",
              "      <td>-11.197322</td>\n",
              "      <td>54.372677</td>\n",
              "      <td>69.097736</td>\n",
              "      <td>-61.293022</td>\n",
              "      <td>-15.45448</td>\n",
              "      <td>3.893846</td>\n",
              "      <td>32.784286</td>\n",
              "      <td>17.632483</td>\n",
              "      <td>-3.690841</td>\n",
              "      <td>-1.694163</td>\n",
              "      <td>14.201094</td>\n",
              "      <td>31.867109</td>\n",
              "      <td>-18.145949</td>\n",
              "      <td>9.35054</td>\n",
              "      <td>15.506617</td>\n",
              "      <td>-30.891881</td>\n",
              "      <td>-52.341356</td>\n",
              "      <td>20.815464</td>\n",
              "      <td>41.650556</td>\n",
              "      <td>-39.66979</td>\n",
              "      <td>-17.961132</td>\n",
              "      <td>31.496831</td>\n",
              "      <td>-11.394703</td>\n",
              "      <td>4.587732</td>\n",
              "      <td>-31.000003</td>\n",
              "      <td>-30.923754</td>\n",
              "      <td>-40.341683</td>\n",
              "      <td>31.402136</td>\n",
              "      <td>-13.133847</td>\n",
              "      <td>62.633632</td>\n",
              "      <td>-33.888489</td>\n",
              "      <td>-29.303905</td>\n",
              "      <td>18.362817</td>\n",
              "      <td>...</td>\n",
              "      <td>35.144471</td>\n",
              "      <td>17.720599</td>\n",
              "      <td>2.281302</td>\n",
              "      <td>40.045933</td>\n",
              "      <td>74.955003</td>\n",
              "      <td>27.386451</td>\n",
              "      <td>-28.739128</td>\n",
              "      <td>-47.428684</td>\n",
              "      <td>20.267393</td>\n",
              "      <td>-31.949732</td>\n",
              "      <td>42.790329</td>\n",
              "      <td>-17.335811</td>\n",
              "      <td>-15.36446</td>\n",
              "      <td>30.703888</td>\n",
              "      <td>-43.540112</td>\n",
              "      <td>52.695816</td>\n",
              "      <td>94.706953</td>\n",
              "      <td>29.049655</td>\n",
              "      <td>-24.867469</td>\n",
              "      <td>-9.65039</td>\n",
              "      <td>59.153114</td>\n",
              "      <td>-17.652552</td>\n",
              "      <td>2.867879</td>\n",
              "      <td>8.234669</td>\n",
              "      <td>-37.875611</td>\n",
              "      <td>18.299291</td>\n",
              "      <td>-28.694118</td>\n",
              "      <td>18.979125</td>\n",
              "      <td>1.663007</td>\n",
              "      <td>-16.76237</td>\n",
              "      <td>-4.200012</td>\n",
              "      <td>19.182655</td>\n",
              "      <td>-32.855464</td>\n",
              "      <td>-12.060145</td>\n",
              "      <td>-56.166467</td>\n",
              "      <td>-36.084533</td>\n",
              "      <td>-23.290735</td>\n",
              "      <td>68.357243</td>\n",
              "      <td>-14.138919</td>\n",
              "      <td>14.47285</td>\n",
              "    </tr>\n",
              "  </tbody>\n",
              "</table>\n",
              "<p>1 rows × 96 columns</p>\n",
              "</div>"
            ],
            "text/plain": [
              "         0         1         2   ...         93         94        95\n",
              "0 -2.918367 -3.684602 -1.603498  ...  68.357243 -14.138919  14.47285\n",
              "\n",
              "[1 rows x 96 columns]"
            ]
          },
          "metadata": {
            "tags": []
          },
          "execution_count": 76
        }
      ]
    },
    {
      "cell_type": "code",
      "metadata": {
        "colab": {
          "base_uri": "https://localhost:8080/",
          "height": 129
        },
        "id": "3HoLTeHdmeir",
        "outputId": "1f9133c8-bbe8-4928-fc79-62f2edd22cd6"
      },
      "source": [
        "df_train_q1.head(1)"
      ],
      "execution_count": null,
      "outputs": [
        {
          "output_type": "execute_result",
          "data": {
            "text/html": [
              "<div>\n",
              "<style scoped>\n",
              "    .dataframe tbody tr th:only-of-type {\n",
              "        vertical-align: middle;\n",
              "    }\n",
              "\n",
              "    .dataframe tbody tr th {\n",
              "        vertical-align: top;\n",
              "    }\n",
              "\n",
              "    .dataframe thead th {\n",
              "        text-align: right;\n",
              "    }\n",
              "</style>\n",
              "<table border=\"1\" class=\"dataframe\">\n",
              "  <thead>\n",
              "    <tr style=\"text-align: right;\">\n",
              "      <th></th>\n",
              "      <th>0</th>\n",
              "      <th>1</th>\n",
              "      <th>2</th>\n",
              "      <th>3</th>\n",
              "      <th>4</th>\n",
              "      <th>5</th>\n",
              "      <th>6</th>\n",
              "      <th>7</th>\n",
              "      <th>8</th>\n",
              "      <th>9</th>\n",
              "      <th>10</th>\n",
              "      <th>11</th>\n",
              "      <th>12</th>\n",
              "      <th>13</th>\n",
              "      <th>14</th>\n",
              "      <th>15</th>\n",
              "      <th>16</th>\n",
              "      <th>17</th>\n",
              "      <th>18</th>\n",
              "      <th>19</th>\n",
              "      <th>20</th>\n",
              "      <th>21</th>\n",
              "      <th>22</th>\n",
              "      <th>23</th>\n",
              "      <th>24</th>\n",
              "      <th>25</th>\n",
              "      <th>26</th>\n",
              "      <th>27</th>\n",
              "      <th>28</th>\n",
              "      <th>29</th>\n",
              "      <th>30</th>\n",
              "      <th>31</th>\n",
              "      <th>32</th>\n",
              "      <th>33</th>\n",
              "      <th>34</th>\n",
              "      <th>35</th>\n",
              "      <th>36</th>\n",
              "      <th>37</th>\n",
              "      <th>38</th>\n",
              "      <th>39</th>\n",
              "      <th>...</th>\n",
              "      <th>56</th>\n",
              "      <th>57</th>\n",
              "      <th>58</th>\n",
              "      <th>59</th>\n",
              "      <th>60</th>\n",
              "      <th>61</th>\n",
              "      <th>62</th>\n",
              "      <th>63</th>\n",
              "      <th>64</th>\n",
              "      <th>65</th>\n",
              "      <th>66</th>\n",
              "      <th>67</th>\n",
              "      <th>68</th>\n",
              "      <th>69</th>\n",
              "      <th>70</th>\n",
              "      <th>71</th>\n",
              "      <th>72</th>\n",
              "      <th>73</th>\n",
              "      <th>74</th>\n",
              "      <th>75</th>\n",
              "      <th>76</th>\n",
              "      <th>77</th>\n",
              "      <th>78</th>\n",
              "      <th>79</th>\n",
              "      <th>80</th>\n",
              "      <th>81</th>\n",
              "      <th>82</th>\n",
              "      <th>83</th>\n",
              "      <th>84</th>\n",
              "      <th>85</th>\n",
              "      <th>86</th>\n",
              "      <th>87</th>\n",
              "      <th>88</th>\n",
              "      <th>89</th>\n",
              "      <th>90</th>\n",
              "      <th>91</th>\n",
              "      <th>92</th>\n",
              "      <th>93</th>\n",
              "      <th>94</th>\n",
              "      <th>95</th>\n",
              "    </tr>\n",
              "  </thead>\n",
              "  <tbody>\n",
              "    <tr>\n",
              "      <th>0</th>\n",
              "      <td>-2.918367</td>\n",
              "      <td>-3.684602</td>\n",
              "      <td>-1.603498</td>\n",
              "      <td>-42.853154</td>\n",
              "      <td>61.047675</td>\n",
              "      <td>-13.991431</td>\n",
              "      <td>43.737719</td>\n",
              "      <td>-11.197322</td>\n",
              "      <td>54.372677</td>\n",
              "      <td>69.097736</td>\n",
              "      <td>-61.293022</td>\n",
              "      <td>-15.45448</td>\n",
              "      <td>3.893846</td>\n",
              "      <td>32.784286</td>\n",
              "      <td>17.632483</td>\n",
              "      <td>-3.690841</td>\n",
              "      <td>-1.694163</td>\n",
              "      <td>14.201094</td>\n",
              "      <td>31.867109</td>\n",
              "      <td>-18.145949</td>\n",
              "      <td>9.35054</td>\n",
              "      <td>15.506617</td>\n",
              "      <td>-30.891881</td>\n",
              "      <td>-52.341356</td>\n",
              "      <td>20.815464</td>\n",
              "      <td>41.650556</td>\n",
              "      <td>-39.66979</td>\n",
              "      <td>-17.961132</td>\n",
              "      <td>31.496831</td>\n",
              "      <td>-11.394703</td>\n",
              "      <td>4.587732</td>\n",
              "      <td>-31.000003</td>\n",
              "      <td>-30.923754</td>\n",
              "      <td>-40.341683</td>\n",
              "      <td>31.402136</td>\n",
              "      <td>-13.133847</td>\n",
              "      <td>62.633632</td>\n",
              "      <td>-33.888489</td>\n",
              "      <td>-29.303905</td>\n",
              "      <td>18.362817</td>\n",
              "      <td>...</td>\n",
              "      <td>35.144471</td>\n",
              "      <td>17.720599</td>\n",
              "      <td>2.281302</td>\n",
              "      <td>40.045933</td>\n",
              "      <td>74.955003</td>\n",
              "      <td>27.386451</td>\n",
              "      <td>-28.739128</td>\n",
              "      <td>-47.428684</td>\n",
              "      <td>20.267393</td>\n",
              "      <td>-31.949732</td>\n",
              "      <td>42.790329</td>\n",
              "      <td>-17.335811</td>\n",
              "      <td>-15.36446</td>\n",
              "      <td>30.703888</td>\n",
              "      <td>-43.540112</td>\n",
              "      <td>52.695816</td>\n",
              "      <td>94.706953</td>\n",
              "      <td>29.049655</td>\n",
              "      <td>-24.867469</td>\n",
              "      <td>-9.65039</td>\n",
              "      <td>59.153114</td>\n",
              "      <td>-17.652552</td>\n",
              "      <td>2.867879</td>\n",
              "      <td>8.234669</td>\n",
              "      <td>-37.875611</td>\n",
              "      <td>18.299291</td>\n",
              "      <td>-28.694118</td>\n",
              "      <td>18.979125</td>\n",
              "      <td>1.663007</td>\n",
              "      <td>-16.76237</td>\n",
              "      <td>-4.200012</td>\n",
              "      <td>19.182655</td>\n",
              "      <td>-32.855464</td>\n",
              "      <td>-12.060145</td>\n",
              "      <td>-56.166467</td>\n",
              "      <td>-36.084533</td>\n",
              "      <td>-23.290735</td>\n",
              "      <td>68.357243</td>\n",
              "      <td>-14.138919</td>\n",
              "      <td>14.47285</td>\n",
              "    </tr>\n",
              "  </tbody>\n",
              "</table>\n",
              "<p>1 rows × 96 columns</p>\n",
              "</div>"
            ],
            "text/plain": [
              "         0         1         2   ...         93         94        95\n",
              "0 -2.918367 -3.684602 -1.603498  ...  68.357243 -14.138919  14.47285\n",
              "\n",
              "[1 rows x 96 columns]"
            ]
          },
          "metadata": {
            "tags": []
          },
          "execution_count": 77
        }
      ]
    },
    {
      "cell_type": "code",
      "metadata": {
        "id": "zb6LqFmahfuz"
      },
      "source": [
        "# From X_train and X_test we need to extract id \n",
        "# We need to inject id into glove vector dataframes ( df_train_q1, df_train_q2, df_test_q1, df_test_q2)\n",
        "# we need to merge df_train_q1, df_train_q2 according to id \n",
        "# we need to merge df_test_q1, df_test_q2 according to id \n",
        "# we need to merge X_train with train_\n",
        "# we need to merge X_test with test_\n",
        "# final 4 dataframes ready for ml model\n",
        "\n",
        "X_train_id = X_train['id'].tolist()\n",
        "X_test_id  = X_test['id'].tolist()\n",
        "\n",
        "df_train_q1['id'] = X_train_id\n",
        "df_train_q2['id'] = X_train_id\n",
        "\n",
        "df_test_q1['id'] = X_test_id\n",
        "df_test_q2['id'] = X_test_id\n",
        "\n",
        "train_ = df_train_q1.merge(df_train_q2, on='id', how='left')\n",
        "test_ = df_test_q1.merge(df_test_q2, on='id', how='left')\n",
        "\n",
        "# adding id into train_ and test_ for another merge with X_train and X_test\n",
        "train_['id'] = X_train_id\n",
        "test_['id'] = X_test_id\n",
        "\n",
        "\n",
        "# merge with main dataframe \n",
        "X_train = X_train.merge(train_, on='id', how='left')\n",
        "X_test = X_test.merge(test_,on='id', how='left')"
      ],
      "execution_count": null,
      "outputs": []
    },
    {
      "cell_type": "code",
      "metadata": {
        "id": "UI7Y6YwddadG"
      },
      "source": [
        "# saving the dataset into new dataset\n",
        "X_train.to_csv(\"/content/drive/MyDrive/collab_data/Quora/X_train.csv\", index=False)\n",
        "X_test.to_csv(\"/content/drive/MyDrive/collab_data/Quora/X_test.csv\", index=False)\n",
        "\n",
        "y_train.to_csv(\"/content/drive/MyDrive/collab_data/Quora/y_train.csv\", index=False)\n",
        "y_test.to_csv(\"/content/drive/MyDrive/collab_data/Quora/y_test.csv\", index=False)\n",
        "\n",
        "print(\"X_train, X_test, y_train, y_test dataframe avilable for ml moldel !\")"
      ],
      "execution_count": null,
      "outputs": []
    },
    {
      "cell_type": "code",
      "metadata": {
        "id": "gpwmHBMejPOs"
      },
      "source": [
        ""
      ],
      "execution_count": null,
      "outputs": []
    },
    {
      "cell_type": "code",
      "metadata": {
        "id": "ZhL2r0uWjPSz"
      },
      "source": [
        ""
      ],
      "execution_count": null,
      "outputs": []
    },
    {
      "cell_type": "code",
      "metadata": {
        "id": "sI04XWMloUh3"
      },
      "source": [
        ""
      ],
      "execution_count": null,
      "outputs": []
    },
    {
      "cell_type": "code",
      "metadata": {
        "id": "JuKXkudDjPYZ"
      },
      "source": [
        "####################### test ####################\n",
        "\n",
        "d1 = pd.DataFrame()\n",
        "d2 = pd.DataFrame()\n",
        "\n",
        "l1 = [[1,12,23],[90,99,98]]\n",
        "l2= [[10,10,20],[90,90,90]]\n",
        "idd = [1,2]\n",
        "d1 = d1.append(l1, ignore_index = True)\n",
        "d2 = d2.append(l2, ignore_index = True)\n",
        "\n",
        "d1['id'] = idd\n",
        "d2['id'] = idd"
      ],
      "execution_count": null,
      "outputs": []
    },
    {
      "cell_type": "code",
      "metadata": {
        "id": "P9f-uJl6YTXq"
      },
      "source": [
        "d1.head(2)"
      ],
      "execution_count": null,
      "outputs": []
    },
    {
      "cell_type": "code",
      "metadata": {
        "id": "NVpAnUG9jPc_"
      },
      "source": [
        "d2.head(2)"
      ],
      "execution_count": null,
      "outputs": []
    },
    {
      "cell_type": "code",
      "metadata": {
        "id": "GxD6dN7-Yb5d"
      },
      "source": [
        "d3 = pd.concat([d1,d2], ignore_index=True)\n"
      ],
      "execution_count": null,
      "outputs": []
    },
    {
      "cell_type": "code",
      "metadata": {
        "id": "DE-QZdggZFM9"
      },
      "source": [
        "d4 = d1.merge(d2, on='id', how='left')"
      ],
      "execution_count": null,
      "outputs": []
    },
    {
      "cell_type": "code",
      "metadata": {
        "id": "Jjja9u5PVrRC"
      },
      "source": [
        "d4.head()"
      ],
      "execution_count": null,
      "outputs": []
    },
    {
      "cell_type": "code",
      "metadata": {
        "id": "WnpiTGoaeno7"
      },
      "source": [
        ""
      ],
      "execution_count": null,
      "outputs": []
    },
    {
      "cell_type": "code",
      "metadata": {
        "id": "x_E-_Kqgenr6"
      },
      "source": [
        ""
      ],
      "execution_count": null,
      "outputs": []
    },
    {
      "cell_type": "code",
      "metadata": {
        "id": "gRxe7II1enwC"
      },
      "source": [
        ""
      ],
      "execution_count": null,
      "outputs": []
    },
    {
      "cell_type": "code",
      "metadata": {
        "id": "KXOhsI4CVrbY"
      },
      "source": [
        ""
      ],
      "execution_count": null,
      "outputs": []
    }
  ]
}