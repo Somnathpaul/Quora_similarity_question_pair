{
  "nbformat": 4,
  "nbformat_minor": 0,
  "metadata": {
    "colab": {
      "name": "Quora_models(w).ipynb",
      "provenance": []
    },
    "kernelspec": {
      "name": "python3",
      "display_name": "Python 3"
    }
  },
  "cells": [
    {
      "cell_type": "code",
      "metadata": {
        "id": "RwkUeGIyWxvC"
      },
      "source": [
        "import pandas as pd\n",
        "import numpy as np\n",
        "%matplotlib inline\n",
        "import matplotlib.pyplot as plt\n",
        "import re\n",
        "import time\n",
        "import warnings\n",
        "warnings.filterwarnings(\"ignore\")\n",
        "import seaborn as sns\n",
        "from sklearn.metrics import confusion_matrix\n",
        "from sklearn.metrics.classification import accuracy_score, log_loss\n",
        "from sklearn.metrics import classification_report\n",
        "\n",
        "from sklearn.svm import SVC\n",
        "from sklearn.model_selection import StratifiedKFold \n",
        "from sklearn.calibration import CalibratedClassifierCV\n",
        "\n",
        "from sklearn.naive_bayes import MultinomialNB\n",
        "from sklearn.naive_bayes import GaussianNB\n",
        "from sklearn.model_selection import GridSearchCV\n",
        "from sklearn.metrics import normalized_mutual_info_score\n",
        "from sklearn.ensemble import RandomForestClassifier\n",
        "\n",
        "from sklearn.model_selection import cross_val_score\n",
        "from sklearn.linear_model import SGDClassifier\n",
        "from mlxtend.classifier import StackingClassifier\n",
        "\n",
        "from sklearn import model_selection\n",
        "from sklearn.linear_model import LogisticRegression\n",
        "from sklearn.metrics import precision_recall_curve, auc, roc_curve\n",
        "\n",
        "from prettytable import PrettyTable"
      ],
      "execution_count": 1,
      "outputs": []
    },
    {
      "cell_type": "code",
      "metadata": {
        "colab": {
          "base_uri": "https://localhost:8080/"
        },
        "id": "tVMZkbXXZKc0",
        "outputId": "861b34cb-1a3f-43ac-b1ae-760f8cd3b0cc"
      },
      "source": [
        "# collab drive mount\n",
        "from google.colab import drive\n",
        "drive.mount('/content/drive')\n",
        "\n",
        "# loading previos feature extraction dataset\n",
        "X_train = pd.read_csv(\"/content/drive/MyDrive/collab_data/Quora/X_train.csv\")\n",
        "X_test = pd.read_csv(\"/content/drive/MyDrive/collab_data/Quora/X_test.csv\")\n",
        "y_train = pd.read_csv(\"/content/drive/MyDrive/collab_data/Quora/y_train.csv\")\n",
        "y_test = pd.read_csv(\"/content/drive/MyDrive/collab_data/Quora/y_test.csv\")\n"
      ],
      "execution_count": 2,
      "outputs": [
        {
          "output_type": "stream",
          "text": [
            "Mounted at /content/drive\n"
          ],
          "name": "stdout"
        }
      ]
    },
    {
      "cell_type": "code",
      "metadata": {
        "colab": {
          "base_uri": "https://localhost:8080/"
        },
        "id": "d_0hqIGZjPIO",
        "outputId": "77fde65b-60c0-4abe-be18-39a08146c9a2"
      },
      "source": [
        "# check \n",
        "print(\"X_train: \",X_train.shape)\n",
        "print(\"X_test: \",X_test.shape)\n",
        "print(\"y_train: \",y_train.shape)\n",
        "print(\"y_train: \",y_test.shape)"
      ],
      "execution_count": 3,
      "outputs": [
        {
          "output_type": "stream",
          "text": [
            "X_train:  (1919, 220)\n",
            "X_test:  (480, 220)\n",
            "y_train:  (1919, 1)\n",
            "y_train:  (480, 1)\n"
          ],
          "name": "stdout"
        }
      ]
    },
    {
      "cell_type": "code",
      "metadata": {
        "colab": {
          "base_uri": "https://localhost:8080/"
        },
        "id": "kkoJu_E7Z5Mg",
        "outputId": "4de65381-7f11-4795-866a-4046945ea32e"
      },
      "source": [
        "X_train.info(verbose = True, null_counts=True)"
      ],
      "execution_count": 4,
      "outputs": [
        {
          "output_type": "stream",
          "text": [
            "<class 'pandas.core.frame.DataFrame'>\n",
            "RangeIndex: 1919 entries, 0 to 1918\n",
            "Data columns (total 220 columns):\n",
            " #   Column                Non-Null Count  Dtype  \n",
            "---  ------                --------------  -----  \n",
            " 0   id                    1919 non-null   int64  \n",
            " 1   qid1                  1919 non-null   int64  \n",
            " 2   qid2                  1919 non-null   int64  \n",
            " 3   is_duplicate          1919 non-null   int64  \n",
            " 4   freq_qid1             1919 non-null   int64  \n",
            " 5   freq_qid2             1919 non-null   int64  \n",
            " 6   lenq1                 1919 non-null   int64  \n",
            " 7   lenq2                 1919 non-null   int64  \n",
            " 8   q1_n_words            1919 non-null   int64  \n",
            " 9   q2_n_words            1919 non-null   int64  \n",
            " 10  word_Common           1919 non-null   int64  \n",
            " 11  word_Total            1919 non-null   int64  \n",
            " 12  word_share            1919 non-null   float64\n",
            " 13  freq_q1+q2            1919 non-null   int64  \n",
            " 14  freq_q1-q2            1919 non-null   int64  \n",
            " 15  cwc_min               1919 non-null   float64\n",
            " 16  cwc_max               1919 non-null   float64\n",
            " 17  csc_min               1919 non-null   float64\n",
            " 18  csc_max               1919 non-null   float64\n",
            " 19  ctc_min               1919 non-null   float64\n",
            " 20  ctc_max               1919 non-null   float64\n",
            " 21  first_word_eq         1919 non-null   float64\n",
            " 22  last_word_eq          1919 non-null   float64\n",
            " 23  abs_len_diff          1919 non-null   float64\n",
            " 24  mean_len              1919 non-null   float64\n",
            " 25  longest_substr_ratio  1919 non-null   float64\n",
            " 26  Clean_Q1              1919 non-null   object \n",
            " 27  Clean_Q2              1919 non-null   object \n",
            " 28  0_x                   1919 non-null   float64\n",
            " 29  1_x                   1919 non-null   float64\n",
            " 30  2_x                   1919 non-null   float64\n",
            " 31  3_x                   1919 non-null   float64\n",
            " 32  4_x                   1919 non-null   float64\n",
            " 33  5_x                   1919 non-null   float64\n",
            " 34  6_x                   1919 non-null   float64\n",
            " 35  7_x                   1919 non-null   float64\n",
            " 36  8_x                   1919 non-null   float64\n",
            " 37  9_x                   1919 non-null   float64\n",
            " 38  10_x                  1919 non-null   float64\n",
            " 39  11_x                  1919 non-null   float64\n",
            " 40  12_x                  1919 non-null   float64\n",
            " 41  13_x                  1919 non-null   float64\n",
            " 42  14_x                  1919 non-null   float64\n",
            " 43  15_x                  1919 non-null   float64\n",
            " 44  16_x                  1919 non-null   float64\n",
            " 45  17_x                  1919 non-null   float64\n",
            " 46  18_x                  1919 non-null   float64\n",
            " 47  19_x                  1919 non-null   float64\n",
            " 48  20_x                  1919 non-null   float64\n",
            " 49  21_x                  1919 non-null   float64\n",
            " 50  22_x                  1919 non-null   float64\n",
            " 51  23_x                  1919 non-null   float64\n",
            " 52  24_x                  1919 non-null   float64\n",
            " 53  25_x                  1919 non-null   float64\n",
            " 54  26_x                  1919 non-null   float64\n",
            " 55  27_x                  1919 non-null   float64\n",
            " 56  28_x                  1919 non-null   float64\n",
            " 57  29_x                  1919 non-null   float64\n",
            " 58  30_x                  1919 non-null   float64\n",
            " 59  31_x                  1919 non-null   float64\n",
            " 60  32_x                  1919 non-null   float64\n",
            " 61  33_x                  1919 non-null   float64\n",
            " 62  34_x                  1919 non-null   float64\n",
            " 63  35_x                  1919 non-null   float64\n",
            " 64  36_x                  1919 non-null   float64\n",
            " 65  37_x                  1919 non-null   float64\n",
            " 66  38_x                  1919 non-null   float64\n",
            " 67  39_x                  1919 non-null   float64\n",
            " 68  40_x                  1919 non-null   float64\n",
            " 69  41_x                  1919 non-null   float64\n",
            " 70  42_x                  1919 non-null   float64\n",
            " 71  43_x                  1919 non-null   float64\n",
            " 72  44_x                  1919 non-null   float64\n",
            " 73  45_x                  1919 non-null   float64\n",
            " 74  46_x                  1919 non-null   float64\n",
            " 75  47_x                  1919 non-null   float64\n",
            " 76  48_x                  1919 non-null   float64\n",
            " 77  49_x                  1919 non-null   float64\n",
            " 78  50_x                  1919 non-null   float64\n",
            " 79  51_x                  1919 non-null   float64\n",
            " 80  52_x                  1919 non-null   float64\n",
            " 81  53_x                  1919 non-null   float64\n",
            " 82  54_x                  1919 non-null   float64\n",
            " 83  55_x                  1919 non-null   float64\n",
            " 84  56_x                  1919 non-null   float64\n",
            " 85  57_x                  1919 non-null   float64\n",
            " 86  58_x                  1919 non-null   float64\n",
            " 87  59_x                  1919 non-null   float64\n",
            " 88  60_x                  1919 non-null   float64\n",
            " 89  61_x                  1919 non-null   float64\n",
            " 90  62_x                  1919 non-null   float64\n",
            " 91  63_x                  1919 non-null   float64\n",
            " 92  64_x                  1919 non-null   float64\n",
            " 93  65_x                  1919 non-null   float64\n",
            " 94  66_x                  1919 non-null   float64\n",
            " 95  67_x                  1919 non-null   float64\n",
            " 96  68_x                  1919 non-null   float64\n",
            " 97  69_x                  1919 non-null   float64\n",
            " 98  70_x                  1919 non-null   float64\n",
            " 99  71_x                  1919 non-null   float64\n",
            " 100 72_x                  1919 non-null   float64\n",
            " 101 73_x                  1919 non-null   float64\n",
            " 102 74_x                  1919 non-null   float64\n",
            " 103 75_x                  1919 non-null   float64\n",
            " 104 76_x                  1919 non-null   float64\n",
            " 105 77_x                  1919 non-null   float64\n",
            " 106 78_x                  1919 non-null   float64\n",
            " 107 79_x                  1919 non-null   float64\n",
            " 108 80_x                  1919 non-null   float64\n",
            " 109 81_x                  1919 non-null   float64\n",
            " 110 82_x                  1919 non-null   float64\n",
            " 111 83_x                  1919 non-null   float64\n",
            " 112 84_x                  1919 non-null   float64\n",
            " 113 85_x                  1919 non-null   float64\n",
            " 114 86_x                  1919 non-null   float64\n",
            " 115 87_x                  1919 non-null   float64\n",
            " 116 88_x                  1919 non-null   float64\n",
            " 117 89_x                  1919 non-null   float64\n",
            " 118 90_x                  1919 non-null   float64\n",
            " 119 91_x                  1919 non-null   float64\n",
            " 120 92_x                  1919 non-null   float64\n",
            " 121 93_x                  1919 non-null   float64\n",
            " 122 94_x                  1919 non-null   float64\n",
            " 123 95_x                  1919 non-null   float64\n",
            " 124 0_y                   1919 non-null   float64\n",
            " 125 1_y                   1919 non-null   float64\n",
            " 126 2_y                   1919 non-null   float64\n",
            " 127 3_y                   1919 non-null   float64\n",
            " 128 4_y                   1919 non-null   float64\n",
            " 129 5_y                   1919 non-null   float64\n",
            " 130 6_y                   1919 non-null   float64\n",
            " 131 7_y                   1919 non-null   float64\n",
            " 132 8_y                   1919 non-null   float64\n",
            " 133 9_y                   1919 non-null   float64\n",
            " 134 10_y                  1919 non-null   float64\n",
            " 135 11_y                  1919 non-null   float64\n",
            " 136 12_y                  1919 non-null   float64\n",
            " 137 13_y                  1919 non-null   float64\n",
            " 138 14_y                  1919 non-null   float64\n",
            " 139 15_y                  1919 non-null   float64\n",
            " 140 16_y                  1919 non-null   float64\n",
            " 141 17_y                  1919 non-null   float64\n",
            " 142 18_y                  1919 non-null   float64\n",
            " 143 19_y                  1919 non-null   float64\n",
            " 144 20_y                  1919 non-null   float64\n",
            " 145 21_y                  1919 non-null   float64\n",
            " 146 22_y                  1919 non-null   float64\n",
            " 147 23_y                  1919 non-null   float64\n",
            " 148 24_y                  1919 non-null   float64\n",
            " 149 25_y                  1919 non-null   float64\n",
            " 150 26_y                  1919 non-null   float64\n",
            " 151 27_y                  1919 non-null   float64\n",
            " 152 28_y                  1919 non-null   float64\n",
            " 153 29_y                  1919 non-null   float64\n",
            " 154 30_y                  1919 non-null   float64\n",
            " 155 31_y                  1919 non-null   float64\n",
            " 156 32_y                  1919 non-null   float64\n",
            " 157 33_y                  1919 non-null   float64\n",
            " 158 34_y                  1919 non-null   float64\n",
            " 159 35_y                  1919 non-null   float64\n",
            " 160 36_y                  1919 non-null   float64\n",
            " 161 37_y                  1919 non-null   float64\n",
            " 162 38_y                  1919 non-null   float64\n",
            " 163 39_y                  1919 non-null   float64\n",
            " 164 40_y                  1919 non-null   float64\n",
            " 165 41_y                  1919 non-null   float64\n",
            " 166 42_y                  1919 non-null   float64\n",
            " 167 43_y                  1919 non-null   float64\n",
            " 168 44_y                  1919 non-null   float64\n",
            " 169 45_y                  1919 non-null   float64\n",
            " 170 46_y                  1919 non-null   float64\n",
            " 171 47_y                  1919 non-null   float64\n",
            " 172 48_y                  1919 non-null   float64\n",
            " 173 49_y                  1919 non-null   float64\n",
            " 174 50_y                  1919 non-null   float64\n",
            " 175 51_y                  1919 non-null   float64\n",
            " 176 52_y                  1919 non-null   float64\n",
            " 177 53_y                  1919 non-null   float64\n",
            " 178 54_y                  1919 non-null   float64\n",
            " 179 55_y                  1919 non-null   float64\n",
            " 180 56_y                  1919 non-null   float64\n",
            " 181 57_y                  1919 non-null   float64\n",
            " 182 58_y                  1919 non-null   float64\n",
            " 183 59_y                  1919 non-null   float64\n",
            " 184 60_y                  1919 non-null   float64\n",
            " 185 61_y                  1919 non-null   float64\n",
            " 186 62_y                  1919 non-null   float64\n",
            " 187 63_y                  1919 non-null   float64\n",
            " 188 64_y                  1919 non-null   float64\n",
            " 189 65_y                  1919 non-null   float64\n",
            " 190 66_y                  1919 non-null   float64\n",
            " 191 67_y                  1919 non-null   float64\n",
            " 192 68_y                  1919 non-null   float64\n",
            " 193 69_y                  1919 non-null   float64\n",
            " 194 70_y                  1919 non-null   float64\n",
            " 195 71_y                  1919 non-null   float64\n",
            " 196 72_y                  1919 non-null   float64\n",
            " 197 73_y                  1919 non-null   float64\n",
            " 198 74_y                  1919 non-null   float64\n",
            " 199 75_y                  1919 non-null   float64\n",
            " 200 76_y                  1919 non-null   float64\n",
            " 201 77_y                  1919 non-null   float64\n",
            " 202 78_y                  1919 non-null   float64\n",
            " 203 79_y                  1919 non-null   float64\n",
            " 204 80_y                  1919 non-null   float64\n",
            " 205 81_y                  1919 non-null   float64\n",
            " 206 82_y                  1919 non-null   float64\n",
            " 207 83_y                  1919 non-null   float64\n",
            " 208 84_y                  1919 non-null   float64\n",
            " 209 85_y                  1919 non-null   float64\n",
            " 210 86_y                  1919 non-null   float64\n",
            " 211 87_y                  1919 non-null   float64\n",
            " 212 88_y                  1919 non-null   float64\n",
            " 213 89_y                  1919 non-null   float64\n",
            " 214 90_y                  1919 non-null   float64\n",
            " 215 91_y                  1919 non-null   float64\n",
            " 216 92_y                  1919 non-null   float64\n",
            " 217 93_y                  1919 non-null   float64\n",
            " 218 94_y                  1919 non-null   float64\n",
            " 219 95_y                  1919 non-null   float64\n",
            "dtypes: float64(204), int64(14), object(2)\n",
            "memory usage: 3.2+ MB\n"
          ],
          "name": "stdout"
        }
      ]
    },
    {
      "cell_type": "code",
      "metadata": {
        "id": "XyHtrwlUaE7e"
      },
      "source": [
        "# drop unwanted columns from X_train\n",
        "\n",
        "X_train.drop(['Clean_Q1'], axis=1, inplace=True)\n",
        "X_train.drop(['Clean_Q2'], axis=1, inplace=True)\n",
        "X_train.drop(['qid1'], axis=1, inplace=True)\n",
        "X_train.drop(['qid2'], axis=1, inplace=True)\n",
        "X_train.drop(['id'], axis=1, inplace=True)\n",
        "X_train.drop(['is_duplicate'], axis=1, inplace=True)\n",
        "X_train.drop(X_train.index[0], inplace=True)\n"
      ],
      "execution_count": 5,
      "outputs": []
    },
    {
      "cell_type": "code",
      "metadata": {
        "id": "WGsDk7Y6e8IC"
      },
      "source": [
        "# drop unwanted columns from X_test\n",
        "\n",
        "X_test.drop(['Clean_Q1'], axis=1, inplace=True)\n",
        "X_test.drop(['Clean_Q2'], axis=1, inplace=True)\n",
        "X_test.drop(['qid1'], axis=1, inplace=True)\n",
        "X_test.drop(['qid2'], axis=1, inplace=True)\n",
        "X_test.drop(['id'], axis=1, inplace=True)\n",
        "X_test.drop(['is_duplicate'], axis=1, inplace=True)\n",
        "X_test.drop(X_test.index[0], inplace=True)\n"
      ],
      "execution_count": 6,
      "outputs": []
    },
    {
      "cell_type": "code",
      "metadata": {
        "id": "ACjykutSjmaj"
      },
      "source": [
        "# drop unwanted columns from y_train & y_test\n",
        "\n",
        "y_train.drop(y_train.index[0], inplace=True)\n",
        "y_test.drop(y_test.index[0], inplace=True)"
      ],
      "execution_count": 7,
      "outputs": []
    },
    {
      "cell_type": "code",
      "metadata": {
        "colab": {
          "base_uri": "https://localhost:8080/"
        },
        "id": "uERN8SsXcsRR",
        "outputId": "c307a641-432b-4b8c-b0b8-d15cdfb4ed9e"
      },
      "source": [
        "X_train.info(verbose=True)"
      ],
      "execution_count": 8,
      "outputs": [
        {
          "output_type": "stream",
          "text": [
            "<class 'pandas.core.frame.DataFrame'>\n",
            "Int64Index: 1918 entries, 1 to 1918\n",
            "Data columns (total 214 columns):\n",
            " #   Column                Dtype  \n",
            "---  ------                -----  \n",
            " 0   freq_qid1             int64  \n",
            " 1   freq_qid2             int64  \n",
            " 2   lenq1                 int64  \n",
            " 3   lenq2                 int64  \n",
            " 4   q1_n_words            int64  \n",
            " 5   q2_n_words            int64  \n",
            " 6   word_Common           int64  \n",
            " 7   word_Total            int64  \n",
            " 8   word_share            float64\n",
            " 9   freq_q1+q2            int64  \n",
            " 10  freq_q1-q2            int64  \n",
            " 11  cwc_min               float64\n",
            " 12  cwc_max               float64\n",
            " 13  csc_min               float64\n",
            " 14  csc_max               float64\n",
            " 15  ctc_min               float64\n",
            " 16  ctc_max               float64\n",
            " 17  first_word_eq         float64\n",
            " 18  last_word_eq          float64\n",
            " 19  abs_len_diff          float64\n",
            " 20  mean_len              float64\n",
            " 21  longest_substr_ratio  float64\n",
            " 22  0_x                   float64\n",
            " 23  1_x                   float64\n",
            " 24  2_x                   float64\n",
            " 25  3_x                   float64\n",
            " 26  4_x                   float64\n",
            " 27  5_x                   float64\n",
            " 28  6_x                   float64\n",
            " 29  7_x                   float64\n",
            " 30  8_x                   float64\n",
            " 31  9_x                   float64\n",
            " 32  10_x                  float64\n",
            " 33  11_x                  float64\n",
            " 34  12_x                  float64\n",
            " 35  13_x                  float64\n",
            " 36  14_x                  float64\n",
            " 37  15_x                  float64\n",
            " 38  16_x                  float64\n",
            " 39  17_x                  float64\n",
            " 40  18_x                  float64\n",
            " 41  19_x                  float64\n",
            " 42  20_x                  float64\n",
            " 43  21_x                  float64\n",
            " 44  22_x                  float64\n",
            " 45  23_x                  float64\n",
            " 46  24_x                  float64\n",
            " 47  25_x                  float64\n",
            " 48  26_x                  float64\n",
            " 49  27_x                  float64\n",
            " 50  28_x                  float64\n",
            " 51  29_x                  float64\n",
            " 52  30_x                  float64\n",
            " 53  31_x                  float64\n",
            " 54  32_x                  float64\n",
            " 55  33_x                  float64\n",
            " 56  34_x                  float64\n",
            " 57  35_x                  float64\n",
            " 58  36_x                  float64\n",
            " 59  37_x                  float64\n",
            " 60  38_x                  float64\n",
            " 61  39_x                  float64\n",
            " 62  40_x                  float64\n",
            " 63  41_x                  float64\n",
            " 64  42_x                  float64\n",
            " 65  43_x                  float64\n",
            " 66  44_x                  float64\n",
            " 67  45_x                  float64\n",
            " 68  46_x                  float64\n",
            " 69  47_x                  float64\n",
            " 70  48_x                  float64\n",
            " 71  49_x                  float64\n",
            " 72  50_x                  float64\n",
            " 73  51_x                  float64\n",
            " 74  52_x                  float64\n",
            " 75  53_x                  float64\n",
            " 76  54_x                  float64\n",
            " 77  55_x                  float64\n",
            " 78  56_x                  float64\n",
            " 79  57_x                  float64\n",
            " 80  58_x                  float64\n",
            " 81  59_x                  float64\n",
            " 82  60_x                  float64\n",
            " 83  61_x                  float64\n",
            " 84  62_x                  float64\n",
            " 85  63_x                  float64\n",
            " 86  64_x                  float64\n",
            " 87  65_x                  float64\n",
            " 88  66_x                  float64\n",
            " 89  67_x                  float64\n",
            " 90  68_x                  float64\n",
            " 91  69_x                  float64\n",
            " 92  70_x                  float64\n",
            " 93  71_x                  float64\n",
            " 94  72_x                  float64\n",
            " 95  73_x                  float64\n",
            " 96  74_x                  float64\n",
            " 97  75_x                  float64\n",
            " 98  76_x                  float64\n",
            " 99  77_x                  float64\n",
            " 100 78_x                  float64\n",
            " 101 79_x                  float64\n",
            " 102 80_x                  float64\n",
            " 103 81_x                  float64\n",
            " 104 82_x                  float64\n",
            " 105 83_x                  float64\n",
            " 106 84_x                  float64\n",
            " 107 85_x                  float64\n",
            " 108 86_x                  float64\n",
            " 109 87_x                  float64\n",
            " 110 88_x                  float64\n",
            " 111 89_x                  float64\n",
            " 112 90_x                  float64\n",
            " 113 91_x                  float64\n",
            " 114 92_x                  float64\n",
            " 115 93_x                  float64\n",
            " 116 94_x                  float64\n",
            " 117 95_x                  float64\n",
            " 118 0_y                   float64\n",
            " 119 1_y                   float64\n",
            " 120 2_y                   float64\n",
            " 121 3_y                   float64\n",
            " 122 4_y                   float64\n",
            " 123 5_y                   float64\n",
            " 124 6_y                   float64\n",
            " 125 7_y                   float64\n",
            " 126 8_y                   float64\n",
            " 127 9_y                   float64\n",
            " 128 10_y                  float64\n",
            " 129 11_y                  float64\n",
            " 130 12_y                  float64\n",
            " 131 13_y                  float64\n",
            " 132 14_y                  float64\n",
            " 133 15_y                  float64\n",
            " 134 16_y                  float64\n",
            " 135 17_y                  float64\n",
            " 136 18_y                  float64\n",
            " 137 19_y                  float64\n",
            " 138 20_y                  float64\n",
            " 139 21_y                  float64\n",
            " 140 22_y                  float64\n",
            " 141 23_y                  float64\n",
            " 142 24_y                  float64\n",
            " 143 25_y                  float64\n",
            " 144 26_y                  float64\n",
            " 145 27_y                  float64\n",
            " 146 28_y                  float64\n",
            " 147 29_y                  float64\n",
            " 148 30_y                  float64\n",
            " 149 31_y                  float64\n",
            " 150 32_y                  float64\n",
            " 151 33_y                  float64\n",
            " 152 34_y                  float64\n",
            " 153 35_y                  float64\n",
            " 154 36_y                  float64\n",
            " 155 37_y                  float64\n",
            " 156 38_y                  float64\n",
            " 157 39_y                  float64\n",
            " 158 40_y                  float64\n",
            " 159 41_y                  float64\n",
            " 160 42_y                  float64\n",
            " 161 43_y                  float64\n",
            " 162 44_y                  float64\n",
            " 163 45_y                  float64\n",
            " 164 46_y                  float64\n",
            " 165 47_y                  float64\n",
            " 166 48_y                  float64\n",
            " 167 49_y                  float64\n",
            " 168 50_y                  float64\n",
            " 169 51_y                  float64\n",
            " 170 52_y                  float64\n",
            " 171 53_y                  float64\n",
            " 172 54_y                  float64\n",
            " 173 55_y                  float64\n",
            " 174 56_y                  float64\n",
            " 175 57_y                  float64\n",
            " 176 58_y                  float64\n",
            " 177 59_y                  float64\n",
            " 178 60_y                  float64\n",
            " 179 61_y                  float64\n",
            " 180 62_y                  float64\n",
            " 181 63_y                  float64\n",
            " 182 64_y                  float64\n",
            " 183 65_y                  float64\n",
            " 184 66_y                  float64\n",
            " 185 67_y                  float64\n",
            " 186 68_y                  float64\n",
            " 187 69_y                  float64\n",
            " 188 70_y                  float64\n",
            " 189 71_y                  float64\n",
            " 190 72_y                  float64\n",
            " 191 73_y                  float64\n",
            " 192 74_y                  float64\n",
            " 193 75_y                  float64\n",
            " 194 76_y                  float64\n",
            " 195 77_y                  float64\n",
            " 196 78_y                  float64\n",
            " 197 79_y                  float64\n",
            " 198 80_y                  float64\n",
            " 199 81_y                  float64\n",
            " 200 82_y                  float64\n",
            " 201 83_y                  float64\n",
            " 202 84_y                  float64\n",
            " 203 85_y                  float64\n",
            " 204 86_y                  float64\n",
            " 205 87_y                  float64\n",
            " 206 88_y                  float64\n",
            " 207 89_y                  float64\n",
            " 208 90_y                  float64\n",
            " 209 91_y                  float64\n",
            " 210 92_y                  float64\n",
            " 211 93_y                  float64\n",
            " 212 94_y                  float64\n",
            " 213 95_y                  float64\n",
            "dtypes: float64(204), int64(10)\n",
            "memory usage: 3.1 MB\n"
          ],
          "name": "stdout"
        }
      ]
    },
    {
      "cell_type": "code",
      "metadata": {
        "id": "zEvtRuUHdDEL"
      },
      "source": [
        "# converting X_train and X_test into numeric \n",
        "\n",
        "X_train_cols = list(X_train.columns)\n",
        "X_test_cols = list(X_test.columns)\n",
        "\n",
        "X_train[X_train_cols] = X_train[X_train_cols].apply(pd.to_numeric, errors='coerce')\n",
        "X_test[X_test_cols] = X_test[X_test_cols].apply(pd.to_numeric, errors='coerce')"
      ],
      "execution_count": 9,
      "outputs": []
    },
    {
      "cell_type": "code",
      "metadata": {
        "colab": {
          "base_uri": "https://localhost:8080/"
        },
        "id": "cKwZkiD-dDIo",
        "outputId": "ab477611-550c-46d3-f241-561f601ac026"
      },
      "source": [
        "\n",
        "# check \n",
        "print(\"X_train: \",X_train.shape)\n",
        "print(\"X_test: \",X_test.shape)\n",
        "print(\"y_train: \",y_train.shape)\n",
        "print(\"y_train: \",y_test.shape)"
      ],
      "execution_count": 10,
      "outputs": [
        {
          "output_type": "stream",
          "text": [
            "X_train:  (1918, 214)\n",
            "X_test:  (479, 214)\n",
            "y_train:  (1918, 1)\n",
            "y_train:  (479, 1)\n"
          ],
          "name": "stdout"
        }
      ]
    },
    {
      "cell_type": "code",
      "metadata": {
        "id": "xLGXLj8WiEP1"
      },
      "source": [
        "\n",
        "# This function plots the confusion matrices given y_i, y_i_hat.\n",
        "def plot_confusion_matrix(test_y, predict_y):\n",
        "    C = confusion_matrix(test_y, predict_y)\n",
        "    # C = 9,9 matrix, each cell (i,j) represents number of points of class i are predicted class j\n",
        "    \n",
        "    A =(((C.T)/(C.sum(axis=1))).T)\n",
        "    #divid each element of the confusion matrix with the sum of elements in that column\n",
        "    \n",
        "    # C = [[1, 2],\n",
        "    #     [3, 4]]\n",
        "    # C.T = [[1, 3],\n",
        "    #        [2, 4]]\n",
        "    # C.sum(axis = 1)  axis=0 corresonds to columns and axis=1 corresponds to rows in two diamensional array\n",
        "    # C.sum(axix =1) = [[3, 7]]\n",
        "    # ((C.T)/(C.sum(axis=1))) = [[1/3, 3/7]\n",
        "    #                           [2/3, 4/7]]\n",
        "\n",
        "    # ((C.T)/(C.sum(axis=1))).T = [[1/3, 2/3]\n",
        "    #                           [3/7, 4/7]]\n",
        "    # sum of row elements = 1\n",
        "    \n",
        "    B =(C/C.sum(axis=0))\n",
        "    #divid each element of the confusion matrix with the sum of elements in that row\n",
        "    # C = [[1, 2],\n",
        "    #     [3, 4]]\n",
        "    # C.sum(axis = 0)  axis=0 corresonds to columns and axis=1 corresponds to rows in two diamensional array\n",
        "    # C.sum(axix =0) = [[4, 6]]\n",
        "    # (C/C.sum(axis=0)) = [[1/4, 2/6],\n",
        "    #                      [3/4, 4/6]] \n",
        "    plt.figure(figsize=(20,4))\n",
        "    \n",
        "    labels = [1,2]\n",
        "    # representing A in heatmap format\n",
        "    cmap=sns.light_palette(\"blue\")\n",
        "    plt.subplot(1, 3, 1)\n",
        "    sns.heatmap(C, annot=True, cmap=cmap, fmt=\".3f\", xticklabels=labels, yticklabels=labels)\n",
        "    plt.xlabel('Predicted Class')\n",
        "    plt.ylabel('Original Class')\n",
        "    plt.title(\"Confusion matrix\")\n",
        "    \n",
        "    plt.subplot(1, 3, 2)\n",
        "    sns.heatmap(B, annot=True, cmap=cmap, fmt=\".3f\", xticklabels=labels, yticklabels=labels)\n",
        "    plt.xlabel('Predicted Class')\n",
        "    plt.ylabel('Original Class')\n",
        "    plt.title(\"Precision matrix\")\n",
        "    \n",
        "    plt.subplot(1, 3, 3)\n",
        "    # representing B in heatmap format\n",
        "    sns.heatmap(A, annot=True, cmap=cmap, fmt=\".3f\", xticklabels=labels, yticklabels=labels)\n",
        "    plt.xlabel('Predicted Class')\n",
        "    plt.ylabel('Original Class')\n",
        "    plt.title(\"Recall matrix\")\n",
        "    \n",
        "    plt.show()"
      ],
      "execution_count": null,
      "outputs": []
    },
    {
      "cell_type": "code",
      "metadata": {
        "colab": {
          "base_uri": "https://localhost:8080/",
          "height": 312
        },
        "id": "uPIeUqWciEXi",
        "outputId": "c39e268f-4bf4-435f-cbe2-bc9c8e5c24e4"
      },
      "source": [
        "# random model : to compute max thereshold for \n",
        "\n",
        "test_len = len(y_test)\n",
        "train_len = len(y_train)\n",
        "predicted_y = np.zeros((test_len,2))\n",
        "for i in range(test_len):\n",
        "    rand_probs = np.random.rand(1,2)\n",
        "    predicted_y[i] = ((rand_probs/sum(sum(rand_probs)))[0])\n",
        "print(\"Log loss on Test Data using Random Model\",log_loss(y_test, predicted_y, eps=1e-15))\n",
        "\n",
        "predicted_y =np.argmax(predicted_y, axis=1)\n",
        "plot_confusion_matrix(y_test, predicted_y)"
      ],
      "execution_count": null,
      "outputs": [
        {
          "output_type": "stream",
          "text": [
            "Log loss on Test Data using Random Model 0.8927419349407313\n"
          ],
          "name": "stdout"
        },
        {
          "output_type": "display_data",
          "data": {
            "image/png": "[encoded data removed]",
            "text/plain": [
              "<Figure size 1440x288 with 6 Axes>"
            ]
          },
          "metadata": {
            "tags": [],
            "needs_background": "light"
          }
        }
      ]
    },
    {
      "cell_type": "code",
      "metadata": {
        "id": "wA3HGhqnQn1J"
      },
      "source": [
        ""
      ],
      "execution_count": null,
      "outputs": []
    },
    {
      "cell_type": "code",
      "metadata": {
        "id": "PIDom2WeQn8p"
      },
      "source": [
        ""
      ],
      "execution_count": null,
      "outputs": []
    },
    {
      "cell_type": "markdown",
      "metadata": {
        "id": "ogo0NpUCz2ao"
      },
      "source": [
        "# 1.0 Logistic Regression (SDG)"
      ]
    },
    {
      "cell_type": "code",
      "metadata": {
        "id": "SHQ-TmzBQoEm",
        "colab": {
          "base_uri": "https://localhost:8080/",
          "height": 533
        },
        "outputId": "224e098a-3bc7-46c6-f58e-216afd88f36e"
      },
      "source": [
        "%%time\n",
        "alpha = [10 ** x for x in range(-5, 2)] # learning rate , hyper parameter\n",
        "#print(alpha)\n",
        "\n",
        "log_error = []\n",
        "for i in alpha:\n",
        "  clf = SGDClassifier(alpha=i, penalty='l2', loss='log', random_state=4, learning_rate='optimal')  #loss = 'log' = logistic regression with L2 \n",
        "  clf.fit(X_train, y_train)\n",
        "  # calibrate, because we are using log loss, logg-loss works with probability , not actual predicted y value \n",
        "  sig_clf = CalibratedClassifierCV(clf, method=\"sigmoid\")\n",
        "  sig_clf.fit(X_train, y_train)\n",
        "  predict_y = sig_clf.predict_proba(X_test)\n",
        "  log_error.append(log_loss(y_test, predict_y, labels=clf.classes_, eps=1e-15))\n",
        "  print('For values of alpha = ', i, \"The log loss is:\",log_loss(y_test, predict_y, labels=clf.classes_, eps=1e-15))\n",
        "\n",
        "print(\"-\"*100)\n",
        "# find index of min log-loss error value \n",
        "optimal_alpha_index = np.argmin(log_error)\n",
        "print(\"optimal alpha index: \", optimal_alpha_index)\n",
        "# find min log-loss error value \n",
        "print(\"optimal alpha log loss: \", min(log_error))\n",
        "print(\"-\"*100)\n",
        "\n",
        "plt.plot(alpha, log_error, c = '#4CAF50')\n",
        "plt.title(\"CV for each alpha value\")\n",
        "plt.xlabel(\"Alpha\")\n",
        "plt.ylabel(\"logg-loss\")\n",
        "plt.show()\n",
        "print(\"-\"*100)"
      ],
      "execution_count": null,
      "outputs": [
        {
          "output_type": "stream",
          "text": [
            "For values of alpha =  1e-05 The log loss is: 0.6934009633376309\n",
            "For values of alpha =  0.0001 The log loss is: 0.6934009633376309\n",
            "For values of alpha =  0.001 The log loss is: 0.6034088717082293\n",
            "For values of alpha =  0.01 The log loss is: 0.6175891256522595\n",
            "For values of alpha =  0.1 The log loss is: 0.6051521483399566\n",
            "For values of alpha =  1 The log loss is: 0.6089504372557002\n",
            "For values of alpha =  10 The log loss is: 0.6491886317884153\n",
            "----------------------------------------------------------------------------------------------------\n",
            "optimal alpha index:  2\n",
            "optimal alpha log loss:  0.6034088717082293\n",
            "----------------------------------------------------------------------------------------------------\n"
          ],
          "name": "stdout"
        },
        {
          "output_type": "display_data",
          "data": {
            "image/png": "[encoded data removed]",
            "text/plain": [
              "<Figure size 432x288 with 1 Axes>"
            ]
          },
          "metadata": {
            "tags": [],
            "needs_background": "light"
          }
        },
        {
          "output_type": "stream",
          "text": [
            "----------------------------------------------------------------------------------------------------\n",
            "CPU times: user 6.41 s, sys: 3.35 s, total: 9.76 s\n",
            "Wall time: 6.02 s\n"
          ],
          "name": "stdout"
        }
      ]
    },
    {
      "cell_type": "code",
      "metadata": {
        "colab": {
          "base_uri": "https://localhost:8080/"
        },
        "id": "Qr5nJTSV-3Xa",
        "outputId": "3aa72436-4351-4b1a-d507-1d6a1bf31d7c"
      },
      "source": [
        "# train with optoimal alpha value \n",
        "clf = SGDClassifier(alpha=alpha[optimal_alpha_index], penalty='l2', loss='log', random_state=42)\n",
        "clf.fit(X_train, y_train)\n",
        "sig_clf = CalibratedClassifierCV(clf, method=\"sigmoid\")\n",
        "sig_clf.fit(X_train, y_train)\n",
        "predict_y = sig_clf.predict_proba(X_train)\n",
        "\n",
        "print('For values of best alpha = ', alpha[optimal_alpha_index], \"The train log loss is:\",log_loss(y_train, predict_y, labels=clf.classes_, eps=1e-15))\n",
        "predict_y = sig_clf.predict_proba(X_test)\n",
        "print('For values of best alpha = ', alpha[optimal_alpha_index], \"The test log loss is:\",log_loss(y_test, predict_y, labels=clf.classes_, eps=1e-15))\n",
        "predicted_y =np.argmax(predict_y,axis=1)\n",
        "print(\"Total number of data points (TEST) :\", len(predicted_y))"
      ],
      "execution_count": null,
      "outputs": [
        {
          "output_type": "stream",
          "text": [
            "For values of best alpha =  0.001 The train log loss is: 0.5519140406614621\n",
            "For values of best alpha =  0.001 The test log loss is: 0.6134690806141911\n",
            "Total number of data points (TEST) : 479\n"
          ],
          "name": "stdout"
        }
      ]
    },
    {
      "cell_type": "code",
      "metadata": {
        "colab": {
          "base_uri": "https://localhost:8080/",
          "height": 324
        },
        "id": "H4-J_3EBAUmY",
        "outputId": "213f0ad6-7d60-40eb-f091-8cc3d224ba7d"
      },
      "source": [
        "# confusion matrix\n",
        "cm = confusion_matrix(y_test, predicted_y)\n",
        "\n",
        "plt.clf()\n",
        "plt.imshow(cm, cmap=plt.cm.Wistia)\n",
        "classNames = ['Negative','Positive']\n",
        "plt.title('confusion matrix')\n",
        "plt.ylabel('predicted label')\n",
        "plt.xlabel('true label')\n",
        "tick_marks = np.arange(len(classNames))\n",
        "plt.xticks(tick_marks, classNames, rotation=45)\n",
        "plt.yticks(tick_marks, classNames)\n",
        "s = [['TN','FP'], ['FN', 'TP']]\n",
        "for i in range(2):\n",
        "    for j in range(2):\n",
        "        plt.text(j,i, str(s[i][j])+\" = \"+str(cm[i][j]))\n",
        "plt.show()"
      ],
      "execution_count": null,
      "outputs": [
        {
          "output_type": "display_data",
          "data": {
            "image/png": "[encoded data removed]",
            "text/plain": [
              "<Figure size 432x288 with 1 Axes>"
            ]
          },
          "metadata": {
            "tags": [],
            "needs_background": "light"
          }
        }
      ]
    },
    {
      "cell_type": "code",
      "metadata": {
        "colab": {
          "base_uri": "https://localhost:8080/"
        },
        "id": "RE9BAuqZClv6",
        "outputId": "9dcbc462-58c6-435f-b992-a99e173f2b71"
      },
      "source": [
        "print(\"_\" * 101)\n",
        "print(\"Classification Report: \\n\")\n",
        "print(classification_report(y_test, predicted_y))\n",
        "print(\"_\" * 101)"
      ],
      "execution_count": null,
      "outputs": [
        {
          "output_type": "stream",
          "text": [
            "_____________________________________________________________________________________________________\n",
            "Classification Report: \n",
            "\n",
            "              precision    recall  f1-score   support\n",
            "\n",
            "           0       0.66      0.57      0.61       232\n",
            "           1       0.64      0.72      0.68       247\n",
            "\n",
            "    accuracy                           0.65       479\n",
            "   macro avg       0.65      0.64      0.64       479\n",
            "weighted avg       0.65      0.65      0.65       479\n",
            "\n",
            "_____________________________________________________________________________________________________\n"
          ],
          "name": "stdout"
        }
      ]
    },
    {
      "cell_type": "markdown",
      "metadata": {
        "id": "asNlRx1Uni8w"
      },
      "source": [
        "# 2.0 SVM hyperparameter tuning (SGD)"
      ]
    },
    {
      "cell_type": "code",
      "metadata": {
        "colab": {
          "base_uri": "https://localhost:8080/",
          "height": 533
        },
        "id": "upsZIJWV_rNV",
        "outputId": "52a1fe19-329b-496d-9258-d27f0f578ccd"
      },
      "source": [
        "%%time\n",
        "alpha = [10 ** x for x in range(-5, 2)] # learning rate , hyper parameter\n",
        "#print(alpha)\n",
        "\n",
        "log_error = []\n",
        "for i in alpha:\n",
        "  clf = SGDClassifier(alpha=i, penalty='l1', loss='hinge', random_state=10, learning_rate='optimal')  #loss = 'hinge' = SVM with L1 \n",
        "  clf.fit(X_train, y_train)\n",
        "  # calibrate, because we are using log loss, logg-loss works with probability , not actual predicted y value \n",
        "  sig_clf = CalibratedClassifierCV(clf, method=\"sigmoid\")\n",
        "  sig_clf.fit(X_train, y_train)\n",
        "  predict_y = sig_clf.predict_proba(X_test)\n",
        "  log_error.append(log_loss(y_test, predict_y, labels=clf.classes_, eps=1e-15))\n",
        "  print('For values of alpha = ', i, \"The log loss is:\",log_loss(y_test, predict_y, labels=clf.classes_, eps=1e-15))\n",
        "\n",
        "print(\"-\"*100)\n",
        "# find index of min log-loss error value \n",
        "optimal_alpha_index = np.argmin(log_error)\n",
        "print(\"optimal alpha index: \", optimal_alpha_index)\n",
        "# find min log-loss error value \n",
        "print(\"optimal alpha log loss: \", min(log_error))\n",
        "print(\"-\"*100)\n",
        "\n",
        "plt.plot(alpha, log_error, c = '#4CAF50')\n",
        "plt.title(\"CV for each alpha value\")\n",
        "plt.xlabel(\"Alpha\")\n",
        "plt.ylabel(\"logg-loss\")\n",
        "plt.show()\n",
        "print(\"-\"*100)"
      ],
      "execution_count": null,
      "outputs": [
        {
          "output_type": "stream",
          "text": [
            "For values of alpha =  1e-05 The log loss is: 0.6934009633376309\n",
            "For values of alpha =  0.0001 The log loss is: 0.6934009633376309\n",
            "For values of alpha =  0.001 The log loss is: 0.6934009633376309\n",
            "For values of alpha =  0.01 The log loss is: 0.6469082257866012\n",
            "For values of alpha =  0.1 The log loss is: 0.6824821954758409\n",
            "For values of alpha =  1 The log loss is: 0.6934009633376309\n",
            "For values of alpha =  10 The log loss is: 0.6903445368554381\n",
            "----------------------------------------------------------------------------------------------------\n",
            "optimal alpha index:  3\n",
            "optimal alpha log loss:  0.6469082257866012\n",
            "----------------------------------------------------------------------------------------------------\n"
          ],
          "name": "stdout"
        },
        {
          "output_type": "display_data",
          "data": {
            "image/png": "[encoded data removed]",
            "text/plain": [
              "<Figure size 432x288 with 1 Axes>"
            ]
          },
          "metadata": {
            "tags": [],
            "needs_background": "light"
          }
        },
        {
          "output_type": "stream",
          "text": [
            "----------------------------------------------------------------------------------------------------\n",
            "CPU times: user 1min, sys: 3.56 s, total: 1min 4s\n",
            "Wall time: 1min\n"
          ],
          "name": "stdout"
        }
      ]
    },
    {
      "cell_type": "code",
      "metadata": {
        "colab": {
          "base_uri": "https://localhost:8080/"
        },
        "id": "OhewtZx2otB2",
        "outputId": "add922da-86fa-4a31-9614-c881555a15a0"
      },
      "source": [
        "# train with optoimal alpha value \n",
        "clf = SGDClassifier(alpha=alpha[optimal_alpha_index], penalty='l1', loss='hinge', random_state=10)\n",
        "clf.fit(X_train, y_train)\n",
        "sig_clf = CalibratedClassifierCV(clf, method=\"sigmoid\")\n",
        "sig_clf.fit(X_train, y_train)\n",
        "predict_y = sig_clf.predict_proba(X_train)\n",
        "\n",
        "print('For values of best alpha = ', alpha[optimal_alpha_index], \"The train log loss is:\",log_loss(y_train, predict_y, labels=clf.classes_, eps=1e-15))\n",
        "predict_y = sig_clf.predict_proba(X_test)\n",
        "print('For values of best alpha = ', alpha[optimal_alpha_index], \"The test log loss is:\",log_loss(y_test, predict_y, labels=clf.classes_, eps=1e-15))\n",
        "predicted_y =np.argmax(predict_y,axis=1)\n",
        "print(\"Total number of data points (TEST) :\", len(predicted_y))"
      ],
      "execution_count": null,
      "outputs": [
        {
          "output_type": "stream",
          "text": [
            "For values of best alpha =  0.01 The train log loss is: 0.6134933701567161\n",
            "For values of best alpha =  0.01 The test log loss is: 0.6469082257866012\n",
            "Total number of data points (TEST) : 479\n"
          ],
          "name": "stdout"
        }
      ]
    },
    {
      "cell_type": "code",
      "metadata": {
        "colab": {
          "base_uri": "https://localhost:8080/",
          "height": 324
        },
        "id": "nlpeJ1FGpbUy",
        "outputId": "1c2205d2-139b-4f9c-d707-4119567d2c31"
      },
      "source": [
        "# confusion matrix\n",
        "cm = confusion_matrix(y_test, predicted_y)\n",
        "\n",
        "plt.clf()\n",
        "plt.imshow(cm, cmap=plt.cm.Wistia)\n",
        "classNames = ['Negative','Positive']\n",
        "plt.title('confusion matrix')\n",
        "plt.ylabel('predicted label')\n",
        "plt.xlabel('true label')\n",
        "tick_marks = np.arange(len(classNames))\n",
        "plt.xticks(tick_marks, classNames, rotation=45)\n",
        "plt.yticks(tick_marks, classNames)\n",
        "s = [['TN','FP'], ['FN', 'TP']]\n",
        "for i in range(2):\n",
        "    for j in range(2):\n",
        "        plt.text(j,i, str(s[i][j])+\" = \"+str(cm[i][j]))\n",
        "plt.show()"
      ],
      "execution_count": null,
      "outputs": [
        {
          "output_type": "display_data",
          "data": {
            "image/png": "[encoded data removed]",
            "text/plain": [
              "<Figure size 432x288 with 1 Axes>"
            ]
          },
          "metadata": {
            "tags": [],
            "needs_background": "light"
          }
        }
      ]
    },
    {
      "cell_type": "code",
      "metadata": {
        "colab": {
          "base_uri": "https://localhost:8080/"
        },
        "id": "2n9HvThYpwrJ",
        "outputId": "b107c817-e294-4f76-b371-d58dd777b7cd"
      },
      "source": [
        "print(\"_\" * 101)\n",
        "print(\"Classification Report: \\n\")\n",
        "print(classification_report(y_test, predicted_y))\n",
        "print(\"_\" * 101)"
      ],
      "execution_count": null,
      "outputs": [
        {
          "output_type": "stream",
          "text": [
            "_____________________________________________________________________________________________________\n",
            "Classification Report: \n",
            "\n",
            "              precision    recall  f1-score   support\n",
            "\n",
            "           0       0.66      0.53      0.59       232\n",
            "           1       0.63      0.74      0.68       247\n",
            "\n",
            "    accuracy                           0.64       479\n",
            "   macro avg       0.64      0.64      0.63       479\n",
            "weighted avg       0.64      0.64      0.63       479\n",
            "\n",
            "_____________________________________________________________________________________________________\n"
          ],
          "name": "stdout"
        }
      ]
    },
    {
      "cell_type": "markdown",
      "metadata": {
        "id": "H_fXzgeMvN_L"
      },
      "source": [
        "#3.0 XG Boost\n",
        "\n",
        "\n",
        "\n"
      ]
    },
    {
      "cell_type": "code",
      "metadata": {
        "id": "obGmXFV6vSYQ",
        "colab": {
          "base_uri": "https://localhost:8080/"
        },
        "outputId": "b0290b88-598c-4280-c823-1c9f591e6ec7"
      },
      "source": [
        "# without hyperparameter (random search)\n",
        "import xgboost as xgb\n",
        "\n",
        "params = {}\n",
        "params['objective'] = 'binary:logistic' \n",
        "params['eval_metric'] = 'logloss'\n",
        "params['eta'] = 0.02\n",
        "params['max_depth'] = 4\n",
        "\n",
        "d_train = xgb.DMatrix(X_train, label=y_train)\n",
        "d_test = xgb.DMatrix(X_test, label=y_test)\n",
        "\n",
        "watchlist = [(d_train, 'train'), (d_test, 'valid')]\n",
        "\n",
        "bst = xgb.train(params, d_train, 400, watchlist, early_stopping_rounds=20, verbose_eval=10)\n",
        "\n",
        "xgdmat = xgb.DMatrix(X_train,y_train)\n",
        "predict_y = bst.predict(d_test)\n"
      ],
      "execution_count": 12,
      "outputs": [
        {
          "output_type": "stream",
          "text": [
            "[0]\ttrain-logloss:0.684617\tvalid-logloss:0.685623\n",
            "Multiple eval metrics have been passed: 'valid-logloss' will be used for early stopping.\n",
            "\n",
            "Will train until valid-logloss hasn't improved in 20 rounds.\n",
            "[10]\ttrain-logloss:0.61505\tvalid-logloss:0.623918\n",
            "[20]\ttrain-logloss:0.564119\tvalid-logloss:0.578998\n",
            "[30]\ttrain-logloss:0.525103\tvalid-logloss:0.545653\n",
            "[40]\ttrain-logloss:0.495017\tvalid-logloss:0.519375\n",
            "[50]\ttrain-logloss:0.471557\tvalid-logloss:0.499041\n",
            "[60]\ttrain-logloss:0.45223\tvalid-logloss:0.4827\n",
            "[70]\ttrain-logloss:0.436083\tvalid-logloss:0.469926\n",
            "[80]\ttrain-logloss:0.422339\tvalid-logloss:0.45958\n",
            "[90]\ttrain-logloss:0.410791\tvalid-logloss:0.451307\n",
            "[100]\ttrain-logloss:0.400608\tvalid-logloss:0.444782\n",
            "[110]\ttrain-logloss:0.391243\tvalid-logloss:0.440304\n",
            "[120]\ttrain-logloss:0.38197\tvalid-logloss:0.43579\n",
            "[130]\ttrain-logloss:0.373842\tvalid-logloss:0.431948\n",
            "[140]\ttrain-logloss:0.366317\tvalid-logloss:0.429017\n",
            "[150]\ttrain-logloss:0.358567\tvalid-logloss:0.427699\n",
            "[160]\ttrain-logloss:0.352159\tvalid-logloss:0.425623\n",
            "[170]\ttrain-logloss:0.345835\tvalid-logloss:0.424718\n",
            "[180]\ttrain-logloss:0.339607\tvalid-logloss:0.423259\n",
            "[190]\ttrain-logloss:0.332831\tvalid-logloss:0.421757\n",
            "[200]\ttrain-logloss:0.327239\tvalid-logloss:0.420892\n",
            "[210]\ttrain-logloss:0.320863\tvalid-logloss:0.419731\n",
            "[220]\ttrain-logloss:0.314058\tvalid-logloss:0.419183\n",
            "[230]\ttrain-logloss:0.308543\tvalid-logloss:0.41882\n",
            "[240]\ttrain-logloss:0.3027\tvalid-logloss:0.418214\n",
            "[250]\ttrain-logloss:0.297326\tvalid-logloss:0.417553\n",
            "[260]\ttrain-logloss:0.292473\tvalid-logloss:0.417063\n",
            "[270]\ttrain-logloss:0.287639\tvalid-logloss:0.417117\n",
            "[280]\ttrain-logloss:0.282151\tvalid-logloss:0.417282\n",
            "Stopping. Best iteration:\n",
            "[264]\ttrain-logloss:0.290475\tvalid-logloss:0.416743\n",
            "\n"
          ],
          "name": "stdout"
        }
      ]
    },
    {
      "cell_type": "code",
      "metadata": {
        "id": "AMM1X6GpvSsY",
        "colab": {
          "base_uri": "https://localhost:8080/"
        },
        "outputId": "8d2c1f4f-2120-4829-d36e-151e4adc7c65"
      },
      "source": [
        "# with HYPER PARAMETER (random search)\n",
        "\n",
        "#%%time\n",
        "from sklearn.model_selection import RandomizedSearchCV\n",
        " \n",
        "d_train = xgb.DMatrix(X_train, label=y_train)\n",
        "d_test = xgb.DMatrix(X_test, label=y_test)\n",
        "\n",
        "clf = xgb.XGBClassifier()\n",
        "\n",
        "parameters = {\n",
        "     \"eta\"    : [0.02, 0.05, 0.10, 0.15, 0.20, 0.25, 0.30 ] ,\n",
        "     \"max_depth\"        : [ 2, 4, 8, 10, 15],\n",
        "     \"min_child_weight\" : [ 1, 3, 5, 7 ],\n",
        "     \"gamma\"            : [ 0.0, 0.1, 0.2 , 0.3, 0.4 ],\n",
        "     \"colsample_bytree\" : [ 0.3, 0.4, 0.5 , 0.7 ],\n",
        "     \"ecal_metric\": 'logloss',\n",
        "     'learning_rate': [0.001, 0.01, 0.1, 0.2, 0,3]\n",
        "     }\n",
        "\n",
        "rs_clif = RandomizedSearchCV(clf,param_distributions=parameters, n_iter=5, n_jobs=-1, scoring='neg_log_loss', verbose=4, cv=5)\n",
        "\n",
        "rs_clif.fit(X_train, y_train)\n"
      ],
      "execution_count": null,
      "outputs": [
        {
          "output_type": "stream",
          "text": [
            "Fitting 5 folds for each of 5 candidates, totalling 25 fits\n"
          ],
          "name": "stdout"
        },
        {
          "output_type": "stream",
          "text": [
            "[Parallel(n_jobs=-1)]: Using backend LokyBackend with 2 concurrent workers.\n",
            "[Parallel(n_jobs=-1)]: Done  21 tasks      | elapsed:   21.1s\n",
            "[Parallel(n_jobs=-1)]: Done  25 out of  25 | elapsed:   22.1s finished\n"
          ],
          "name": "stderr"
        },
        {
          "output_type": "execute_result",
          "data": {
            "text/plain": [
              "RandomizedSearchCV(cv=5, error_score=nan,\n",
              "                   estimator=XGBClassifier(base_score=0.5, booster='gbtree',\n",
              "                                           colsample_bylevel=1,\n",
              "                                           colsample_bynode=1,\n",
              "                                           colsample_bytree=1, gamma=0,\n",
              "                                           learning_rate=0.1, max_delta_step=0,\n",
              "                                           max_depth=3, min_child_weight=1,\n",
              "                                           missing=None, n_estimators=100,\n",
              "                                           n_jobs=1, nthread=None,\n",
              "                                           objective='binary:logistic',\n",
              "                                           random_state=0, reg_alpha=0,\n",
              "                                           reg_lambda=1, sc...\n",
              "                   param_distributions={'colsample_bytree': [0.3, 0.4, 0.5,\n",
              "                                                             0.7],\n",
              "                                        'ecal_metric': 'logloss',\n",
              "                                        'eta': [0.02, 0.05, 0.1, 0.15, 0.2,\n",
              "                                                0.25, 0.3],\n",
              "                                        'gamma': [0.0, 0.1, 0.2, 0.3, 0.4],\n",
              "                                        'learning_rate': [0.001, 0.01, 0.1, 0.2,\n",
              "                                                          0, 3],\n",
              "                                        'max_depth': [2, 4, 8, 10, 15],\n",
              "                                        'min_child_weight': [1, 3, 5, 7]},\n",
              "                   pre_dispatch='2*n_jobs', random_state=None, refit=True,\n",
              "                   return_train_score=False, scoring='neg_log_loss', verbose=4)"
            ]
          },
          "metadata": {
            "tags": []
          },
          "execution_count": 76
        }
      ]
    },
    {
      "cell_type": "code",
      "metadata": {
        "colab": {
          "base_uri": "https://localhost:8080/"
        },
        "id": "M5QU5kGsexas",
        "outputId": "fadebf8f-fb84-42a7-8a7c-e534cb422662"
      },
      "source": [
        "rs_clif.best_estimator_"
      ],
      "execution_count": null,
      "outputs": [
        {
          "output_type": "execute_result",
          "data": {
            "text/plain": [
              "XGBClassifier(base_score=0.5, booster='gbtree', colsample_bylevel=1,\n",
              "              colsample_bynode=1, colsample_bytree=0.7, ecal_metric='l',\n",
              "              eta=0.25, gamma=0.4, learning_rate=0.1, max_delta_step=0,\n",
              "              max_depth=2, min_child_weight=1, missing=None, n_estimators=100,\n",
              "              n_jobs=1, nthread=None, objective='binary:logistic',\n",
              "              random_state=0, reg_alpha=0, reg_lambda=1, scale_pos_weight=1,\n",
              "              seed=None, silent=None, subsample=1, verbosity=1)"
            ]
          },
          "metadata": {
            "tags": []
          },
          "execution_count": 71
        }
      ]
    },
    {
      "cell_type": "code",
      "metadata": {
        "colab": {
          "base_uri": "https://localhost:8080/"
        },
        "id": "J4mlYd0MexkR",
        "outputId": "886de213-beb5-4df0-cc89-86e8cc382242"
      },
      "source": [
        "rs_clif.best_params_"
      ],
      "execution_count": null,
      "outputs": [
        {
          "output_type": "execute_result",
          "data": {
            "text/plain": [
              "{'colsample_bytree': 0.4,\n",
              " 'ecal_metric': 'g',\n",
              " 'eta': 0.05,\n",
              " 'gamma': 0.1,\n",
              " 'learning_rate': 0.01,\n",
              " 'max_depth': 15,\n",
              " 'min_child_weight': 3}"
            ]
          },
          "metadata": {
            "tags": []
          },
          "execution_count": 77
        }
      ]
    },
    {
      "cell_type": "code",
      "metadata": {
        "colab": {
          "base_uri": "https://localhost:8080/"
        },
        "id": "BTLWX3P5exqM",
        "outputId": "e029fc57-9781-48ab-ea6d-fa7def00e4c1"
      },
      "source": [
        "# XGB with best params \n",
        "\n",
        "params = {'colsample_bytree': 0.4,\n",
        " 'ecal_metric': 'g',\n",
        " 'eta': 0.05,\n",
        " 'gamma': 0.1,\n",
        " 'learning_rate': 0.01,\n",
        " 'max_depth': 15,\n",
        " 'min_child_weight': 3}\n",
        "\n",
        "d_train = xgb.DMatrix(X_train, label=y_train)\n",
        "d_test = xgb.DMatrix(X_test, label=y_test)\n",
        "\n",
        "watchlist = [(d_train, 'train'), (d_test, 'valid')]\n",
        "\n",
        "bst = xgb.train(params, d_train, 1000, watchlist, early_stopping_rounds=20, verbose_eval=10)\n",
        "\n",
        "xgdmat = xgb.DMatrix(X_train,y_train)\n",
        "predict_y = bst.predict(d_test)\n"
      ],
      "execution_count": 13,
      "outputs": [
        {
          "output_type": "stream",
          "text": [
            "[0]\ttrain-rmse:0.495763\tvalid-rmse:0.498061\n",
            "Multiple eval metrics have been passed: 'valid-rmse' will be used for early stopping.\n",
            "\n",
            "Will train until valid-rmse hasn't improved in 20 rounds.\n",
            "[10]\ttrain-rmse:0.456278\tvalid-rmse:0.48192\n",
            "[20]\ttrain-rmse:0.420226\tvalid-rmse:0.468013\n",
            "[30]\ttrain-rmse:0.386785\tvalid-rmse:0.45604\n",
            "[40]\ttrain-rmse:0.356931\tvalid-rmse:0.445749\n",
            "[50]\ttrain-rmse:0.329353\tvalid-rmse:0.437071\n",
            "[60]\ttrain-rmse:0.303836\tvalid-rmse:0.429467\n",
            "[70]\ttrain-rmse:0.280429\tvalid-rmse:0.422983\n",
            "[80]\ttrain-rmse:0.259165\tvalid-rmse:0.417581\n",
            "[90]\ttrain-rmse:0.239075\tvalid-rmse:0.41217\n",
            "[100]\ttrain-rmse:0.221129\tvalid-rmse:0.407985\n",
            "[110]\ttrain-rmse:0.204777\tvalid-rmse:0.405124\n",
            "[120]\ttrain-rmse:0.189618\tvalid-rmse:0.402434\n",
            "[130]\ttrain-rmse:0.176133\tvalid-rmse:0.400008\n",
            "[140]\ttrain-rmse:0.163813\tvalid-rmse:0.398122\n",
            "[150]\ttrain-rmse:0.152101\tvalid-rmse:0.396065\n",
            "[160]\ttrain-rmse:0.141747\tvalid-rmse:0.39464\n",
            "[170]\ttrain-rmse:0.132251\tvalid-rmse:0.393309\n",
            "[180]\ttrain-rmse:0.12367\tvalid-rmse:0.391979\n",
            "[190]\ttrain-rmse:0.116279\tvalid-rmse:0.391105\n",
            "[200]\ttrain-rmse:0.109489\tvalid-rmse:0.389851\n",
            "[210]\ttrain-rmse:0.103769\tvalid-rmse:0.389048\n",
            "[220]\ttrain-rmse:0.098999\tvalid-rmse:0.388255\n",
            "[230]\ttrain-rmse:0.094596\tvalid-rmse:0.387606\n",
            "[240]\ttrain-rmse:0.091159\tvalid-rmse:0.386974\n",
            "[250]\ttrain-rmse:0.088098\tvalid-rmse:0.386474\n",
            "[260]\ttrain-rmse:0.085352\tvalid-rmse:0.386044\n",
            "[270]\ttrain-rmse:0.08332\tvalid-rmse:0.385716\n",
            "[280]\ttrain-rmse:0.081731\tvalid-rmse:0.385425\n",
            "[290]\ttrain-rmse:0.080133\tvalid-rmse:0.385083\n",
            "[300]\ttrain-rmse:0.078943\tvalid-rmse:0.384783\n",
            "[310]\ttrain-rmse:0.077711\tvalid-rmse:0.384463\n",
            "[320]\ttrain-rmse:0.076761\tvalid-rmse:0.384306\n",
            "[330]\ttrain-rmse:0.075913\tvalid-rmse:0.384077\n",
            "[340]\ttrain-rmse:0.074945\tvalid-rmse:0.383836\n",
            "[350]\ttrain-rmse:0.074084\tvalid-rmse:0.383663\n",
            "[360]\ttrain-rmse:0.073578\tvalid-rmse:0.383532\n",
            "[370]\ttrain-rmse:0.073033\tvalid-rmse:0.383398\n",
            "[380]\ttrain-rmse:0.072635\tvalid-rmse:0.383299\n",
            "[390]\ttrain-rmse:0.07242\tvalid-rmse:0.383243\n",
            "[400]\ttrain-rmse:0.072064\tvalid-rmse:0.383161\n",
            "[410]\ttrain-rmse:0.071809\tvalid-rmse:0.383069\n",
            "[420]\ttrain-rmse:0.071522\tvalid-rmse:0.383015\n",
            "[430]\ttrain-rmse:0.071367\tvalid-rmse:0.382986\n",
            "[440]\ttrain-rmse:0.071142\tvalid-rmse:0.382965\n",
            "[450]\ttrain-rmse:0.071034\tvalid-rmse:0.382931\n",
            "[460]\ttrain-rmse:0.070711\tvalid-rmse:0.382804\n",
            "[470]\ttrain-rmse:0.070502\tvalid-rmse:0.382749\n",
            "[480]\ttrain-rmse:0.070344\tvalid-rmse:0.382729\n",
            "[490]\ttrain-rmse:0.070199\tvalid-rmse:0.382694\n",
            "[500]\ttrain-rmse:0.070164\tvalid-rmse:0.38269\n",
            "[510]\ttrain-rmse:0.070125\tvalid-rmse:0.38267\n",
            "[520]\ttrain-rmse:0.070022\tvalid-rmse:0.382652\n",
            "[530]\ttrain-rmse:0.069945\tvalid-rmse:0.382621\n",
            "[540]\ttrain-rmse:0.069805\tvalid-rmse:0.382596\n",
            "[550]\ttrain-rmse:0.069669\tvalid-rmse:0.38258\n",
            "[560]\ttrain-rmse:0.069635\tvalid-rmse:0.382559\n",
            "[570]\ttrain-rmse:0.069551\tvalid-rmse:0.38254\n",
            "[580]\ttrain-rmse:0.06952\tvalid-rmse:0.382537\n",
            "[590]\ttrain-rmse:0.069472\tvalid-rmse:0.382535\n",
            "[600]\ttrain-rmse:0.069472\tvalid-rmse:0.382535\n",
            "[610]\ttrain-rmse:0.069391\tvalid-rmse:0.382513\n",
            "[620]\ttrain-rmse:0.069289\tvalid-rmse:0.382495\n",
            "[630]\ttrain-rmse:0.069223\tvalid-rmse:0.382507\n",
            "[640]\ttrain-rmse:0.069183\tvalid-rmse:0.382505\n",
            "Stopping. Best iteration:\n",
            "[620]\ttrain-rmse:0.069289\tvalid-rmse:0.382495\n",
            "\n"
          ],
          "name": "stdout"
        }
      ]
    },
    {
      "cell_type": "code",
      "metadata": {
        "colab": {
          "base_uri": "https://localhost:8080/",
          "height": 341
        },
        "id": "vNhBhAjYexzI",
        "outputId": "77aeccec-0cd6-427a-8b32-96d080199696"
      },
      "source": [
        "xgdmat = xgb.DMatrix(X_train,y_train)\n",
        "predict_y = bst.predict(d_test)\n",
        "predicted_y =np.array(predict_y>0.5,dtype=int)\n",
        "print(\"Total number of data points :\", len(predicted_y))\n",
        "\n",
        "# confusion matrix\n",
        "cm = confusion_matrix(y_test, predicted_y)\n",
        "\n",
        "plt.clf()\n",
        "plt.imshow(cm, cmap=plt.cm.Wistia)\n",
        "classNames = ['Negative','Positive']\n",
        "plt.title('confusion matrix')\n",
        "plt.ylabel('predicted label')\n",
        "plt.xlabel('true label')\n",
        "tick_marks = np.arange(len(classNames))\n",
        "plt.xticks(tick_marks, classNames, rotation=45)\n",
        "plt.yticks(tick_marks, classNames)\n",
        "s = [['TN','FP'], ['FN', 'TP']]\n",
        "for i in range(2):\n",
        "    for j in range(2):\n",
        "        plt.text(j,i, str(s[i][j])+\" = \"+str(cm[i][j]))\n",
        "plt.show()"
      ],
      "execution_count": 15,
      "outputs": [
        {
          "output_type": "stream",
          "text": [
            "Total number of data points : 479\n"
          ],
          "name": "stdout"
        },
        {
          "output_type": "display_data",
          "data": {
            "image/png": "[encoded data removed]",
            "text/plain": [
              "<Figure size 432x288 with 1 Axes>"
            ]
          },
          "metadata": {
            "tags": [],
            "needs_background": "light"
          }
        }
      ]
    },
    {
      "cell_type": "code",
      "metadata": {
        "colab": {
          "base_uri": "https://localhost:8080/"
        },
        "id": "CLlPQ1lZaVMg",
        "outputId": "cef974c7-d19b-4ec5-f72c-98dc2f75d4d6"
      },
      "source": [
        "print(\"_\" * 101)\n",
        "print(\"Classification Report: \\n\")\n",
        "print(classification_report(y_test, predicted_y))\n",
        "print(\"_\" * 101)"
      ],
      "execution_count": 16,
      "outputs": [
        {
          "output_type": "stream",
          "text": [
            "_____________________________________________________________________________________________________\n",
            "Classification Report: \n",
            "\n",
            "              precision    recall  f1-score   support\n",
            "\n",
            "           0       0.84      0.69      0.76       232\n",
            "           1       0.75      0.87      0.81       247\n",
            "\n",
            "    accuracy                           0.79       479\n",
            "   macro avg       0.80      0.78      0.78       479\n",
            "weighted avg       0.79      0.79      0.78       479\n",
            "\n",
            "_____________________________________________________________________________________________________\n"
          ],
          "name": "stdout"
        }
      ]
    },
    {
      "cell_type": "markdown",
      "metadata": {
        "id": "J-KLRSBsry3x"
      },
      "source": [
        "## XGboost model performing better!"
      ]
    }
  ]
}